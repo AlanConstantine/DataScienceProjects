{
 "cells": [
  {
   "cell_type": "code",
   "execution_count": 2,
   "metadata": {
    "ExecuteTime": {
     "end_time": "2019-03-08T16:39:56.552264Z",
     "start_time": "2019-03-08T16:39:56.097076Z"
    }
   },
   "outputs": [],
   "source": [
    "from IPython.display import display\n",
    "import matplotlib.pyplot as plt\n",
    "import pandas as pd\n",
    "import numpy as np\n",
    "import seaborn as sns\n",
    "import matplotlib as mpl\n",
    "import warnings\n",
    "warnings.filterwarnings(\"ignore\")\n",
    "\n",
    "# import matplotlib as mpl\n",
    "# mpl.rcParams['font.sans-serif'] = ['simhei']\n",
    "# mpl.rcParams['font.serif'] = ['simhei']\n",
    "\n",
    "plt.style.use(\"fivethirtyeight\")\n",
    "\n",
    "# from matplotlib.font_manager import FontProperties\n",
    "# myfont=FontProperties(fname='/home/alan/anaconda3/lib/python3.6/site-packages/matplotlib/mpl-data/fonts/ttf/simhei.ttf')\n",
    "# sns.set(font=myfont.get_name())\n",
    "sns.set_style({'font.sans-serif': ['simsun', 'Arial']})\n",
    "sns.set_style('darkgrid', {'font.sans-serif': ['simhei', 'Arial']})\n",
    "%matplotlib inline"
   ]
  },
  {
   "cell_type": "code",
   "execution_count": 3,
   "metadata": {
    "ExecuteTime": {
     "end_time": "2019-03-08T16:39:56.728706Z",
     "start_time": "2019-03-08T16:39:56.555450Z"
    }
   },
   "outputs": [
    {
     "data": {
      "text/html": [
       "<div>\n",
       "<style scoped>\n",
       "    .dataframe tbody tr th:only-of-type {\n",
       "        vertical-align: middle;\n",
       "    }\n",
       "\n",
       "    .dataframe tbody tr th {\n",
       "        vertical-align: top;\n",
       "    }\n",
       "\n",
       "    .dataframe thead th {\n",
       "        text-align: right;\n",
       "    }\n",
       "</style>\n",
       "<table border=\"1\" class=\"dataframe\">\n",
       "  <thead>\n",
       "    <tr style=\"text-align: right;\">\n",
       "      <th></th>\n",
       "      <th>Region</th>\n",
       "      <th>District</th>\n",
       "      <th>Garden</th>\n",
       "      <th>Layout</th>\n",
       "      <th>Floor</th>\n",
       "      <th>Year</th>\n",
       "      <th>Size</th>\n",
       "      <th>Elevator</th>\n",
       "      <th>Direction</th>\n",
       "      <th>Renovation</th>\n",
       "      <th>PerPrice</th>\n",
       "      <th>Price</th>\n",
       "    </tr>\n",
       "  </thead>\n",
       "  <tbody>\n",
       "    <tr>\n",
       "      <th>0</th>\n",
       "      <td>东城</td>\n",
       "      <td>灯市口</td>\n",
       "      <td>锡拉胡同21号院</td>\n",
       "      <td>3室1厅</td>\n",
       "      <td>6</td>\n",
       "      <td>1988</td>\n",
       "      <td>75.0</td>\n",
       "      <td>无电梯</td>\n",
       "      <td>东西</td>\n",
       "      <td>精装</td>\n",
       "      <td>10.400000</td>\n",
       "      <td>780.0</td>\n",
       "    </tr>\n",
       "    <tr>\n",
       "      <th>1</th>\n",
       "      <td>东城</td>\n",
       "      <td>东单</td>\n",
       "      <td>东华门大街</td>\n",
       "      <td>2室1厅</td>\n",
       "      <td>6</td>\n",
       "      <td>1988</td>\n",
       "      <td>60.0</td>\n",
       "      <td>无电梯</td>\n",
       "      <td>南北</td>\n",
       "      <td>精装</td>\n",
       "      <td>11.750000</td>\n",
       "      <td>705.0</td>\n",
       "    </tr>\n",
       "    <tr>\n",
       "      <th>2</th>\n",
       "      <td>东城</td>\n",
       "      <td>崇文门</td>\n",
       "      <td>新世界中心</td>\n",
       "      <td>3室1厅</td>\n",
       "      <td>16</td>\n",
       "      <td>1996</td>\n",
       "      <td>210.0</td>\n",
       "      <td>有电梯</td>\n",
       "      <td>南西</td>\n",
       "      <td>其他</td>\n",
       "      <td>6.666667</td>\n",
       "      <td>1400.0</td>\n",
       "    </tr>\n",
       "    <tr>\n",
       "      <th>3</th>\n",
       "      <td>东城</td>\n",
       "      <td>崇文门</td>\n",
       "      <td>兴隆都市馨园</td>\n",
       "      <td>1室1厅</td>\n",
       "      <td>7</td>\n",
       "      <td>2004</td>\n",
       "      <td>39.0</td>\n",
       "      <td>有电梯</td>\n",
       "      <td>南</td>\n",
       "      <td>精装</td>\n",
       "      <td>10.769231</td>\n",
       "      <td>420.0</td>\n",
       "    </tr>\n",
       "    <tr>\n",
       "      <th>4</th>\n",
       "      <td>东城</td>\n",
       "      <td>陶然亭</td>\n",
       "      <td>中海紫御公馆</td>\n",
       "      <td>2室2厅</td>\n",
       "      <td>19</td>\n",
       "      <td>2010</td>\n",
       "      <td>90.0</td>\n",
       "      <td>有电梯</td>\n",
       "      <td>南</td>\n",
       "      <td>精装</td>\n",
       "      <td>11.088889</td>\n",
       "      <td>998.0</td>\n",
       "    </tr>\n",
       "  </tbody>\n",
       "</table>\n",
       "</div>"
      ],
      "text/plain": [
       "  Region District    Garden Layout  Floor  Year   Size Elevator Direction  \\\n",
       "0     东城      灯市口  锡拉胡同21号院   3室1厅      6  1988   75.0      无电梯        东西   \n",
       "1     东城       东单     东华门大街   2室1厅      6  1988   60.0      无电梯        南北   \n",
       "2     东城      崇文门     新世界中心   3室1厅     16  1996  210.0      有电梯        南西   \n",
       "3     东城      崇文门    兴隆都市馨园   1室1厅      7  2004   39.0      有电梯         南   \n",
       "4     东城      陶然亭    中海紫御公馆   2室2厅     19  2010   90.0      有电梯         南   \n",
       "\n",
       "  Renovation   PerPrice   Price  \n",
       "0         精装  10.400000   780.0  \n",
       "1         精装  11.750000   705.0  \n",
       "2         其他   6.666667  1400.0  \n",
       "3         精装  10.769231   420.0  \n",
       "4         精装  11.088889   998.0  "
      ]
     },
     "metadata": {},
     "output_type": "display_data"
    },
    {
     "data": {
      "text/plain": [
       "23656"
      ]
     },
     "execution_count": 3,
     "metadata": {},
     "output_type": "execute_result"
    }
   ],
   "source": [
    "df = pd.read_csv('./Data/preprocessedData.csv')\n",
    "display(df.head(n=5))\n",
    "len(df)"
   ]
  },
  {
   "cell_type": "markdown",
   "metadata": {},
   "source": [
    "## 特征工程"
   ]
  },
  {
   "cell_type": "markdown",
   "metadata": {},
   "source": [
    "### Layout"
   ]
  },
  {
   "cell_type": "code",
   "execution_count": 4,
   "metadata": {
    "ExecuteTime": {
     "end_time": "2019-03-08T16:39:56.784420Z",
     "start_time": "2019-03-08T16:39:56.731380Z"
    }
   },
   "outputs": [],
   "source": [
    "# 只考虑“室”和“厅”，将其它少数“房间”和“卫”移除\n",
    "# 原链接的代码错误，这里进行修改\n",
    "# df.loc[(df['Layout'].str.extract('^\\d(.*?)\\d.*?') == '厅')]\n",
    "# expand=False 表示返回Series，=True表示返回Dataframe\n",
    "df = df.loc[(df['Layout'].str.extract('^\\d(.*?)\\d.*?', expand=False) == '室')]"
   ]
  },
  {
   "cell_type": "code",
   "execution_count": 5,
   "metadata": {
    "ExecuteTime": {
     "end_time": "2019-03-08T16:39:57.004957Z",
     "start_time": "2019-03-08T16:39:56.787577Z"
    }
   },
   "outputs": [],
   "source": [
    "# 挖掘房间数量\n",
    "df['Layout_room_num'] = df['Layout'].str.extract(\n",
    "    '^(\\d).*?\\d.*?', expand=False).astype('int64')\n",
    "df['Layout_hall_num'] = df['Layout'].str.extract(\n",
    "    '^\\d.*?(\\d).*?', expand=False).astype('int64')"
   ]
  },
  {
   "cell_type": "markdown",
   "metadata": {},
   "source": [
    "### Year"
   ]
  },
  {
   "cell_type": "code",
   "execution_count": 6,
   "metadata": {
    "ExecuteTime": {
     "end_time": "2019-03-08T16:39:57.234081Z",
     "start_time": "2019-03-08T16:39:57.009024Z"
    }
   },
   "outputs": [],
   "source": [
    "# Year属于连续型数值，如果每个年份都作为特征处理，可能出现过拟和，因此要将year离散化，这里使用分箱处理\n",
    "# 等距分箱处理\n",
    "df['Year'] = pd.qcut(df['Year'], 8).astype('object')"
   ]
  },
  {
   "cell_type": "markdown",
   "metadata": {},
   "source": [
    "### Direction"
   ]
  },
  {
   "cell_type": "code",
   "execution_count": 7,
   "metadata": {
    "ExecuteTime": {
     "end_time": "2019-03-08T16:39:57.245540Z",
     "start_time": "2019-03-08T16:39:57.236568Z"
    }
   },
   "outputs": [
    {
     "data": {
      "text/plain": [
       "南北        11367\n",
       "南          2726\n",
       "东西         1388\n",
       "东南         1311\n",
       "西南         1094\n",
       "东           843\n",
       "西           802\n",
       "西北          733\n",
       "东北          645\n",
       "北           484\n",
       "东南北         465\n",
       "南西北         370\n",
       "南西          158\n",
       "东西北         139\n",
       "东南西         133\n",
       "西南北         124\n",
       "东南西北         90\n",
       "西南东北         23\n",
       "南东北          19\n",
       "东南西南         15\n",
       "东南南          13\n",
       "东东南          10\n",
       "西东北          10\n",
       "西南西北         10\n",
       "南西南           9\n",
       "东西南           9\n",
       "东南东北          7\n",
       "东南南北          5\n",
       "西南西           5\n",
       "南西东北          3\n",
       "东西南北          3\n",
       "西西南           2\n",
       "南西南北          2\n",
       "西北东北          2\n",
       "南西北北          2\n",
       "西西北           2\n",
       "南东            2\n",
       "西北北           2\n",
       "东北东北          2\n",
       "南西西北          2\n",
       "南西南西          2\n",
       "东东北           2\n",
       "南北东北          1\n",
       "东南西北北         1\n",
       "南北西           1\n",
       "西南西北北         1\n",
       "东西北东北         1\n",
       "东南西南东北        1\n",
       "东西北北          1\n",
       "南北东           1\n",
       "东西东北          1\n",
       "东东南南          1\n",
       "东南南西北         1\n",
       "东南西北东北        1\n",
       "北西            1\n",
       "北南            1\n",
       "东南西南北         1\n",
       "东南北西          1\n",
       "西南西北东北        1\n",
       "Name: Direction, dtype: int64"
      ]
     },
     "execution_count": 7,
     "metadata": {},
     "output_type": "execute_result"
    }
   ],
   "source": [
    "df['Direction'].value_counts()"
   ]
  },
  {
   "cell_type": "code",
   "execution_count": 8,
   "metadata": {
    "ExecuteTime": {
     "end_time": "2019-03-08T16:39:57.312147Z",
     "start_time": "2019-03-08T16:39:57.247223Z"
    }
   },
   "outputs": [],
   "source": [
    "# 写函数 direct_func 来整理上面较乱的 Direction\n",
    "def direct_func(x):\n",
    "    if not isinstance(x, str):\n",
    "        raise TypeError\n",
    "    x = x.strip()\n",
    "    x_len = len(x)\n",
    "    x_list = pd.unique([y for y in x])\n",
    "    if x_len != len(x_list):\n",
    "        return 'no'\n",
    "\n",
    "    if (x_len == 2) & (x not in d_list_two):\n",
    "        m0 = x[0]\n",
    "        m1 = x[1]\n",
    "        return m1+m0\n",
    "    elif (x_len == 3) & (x not in d_list_three):\n",
    "        for n in d_list_three:\n",
    "            if (x_list[0] in n) & (x_list[1] in n) & (x_list[2] in n):\n",
    "                return n\n",
    "    elif (x_len == 4) & (x not in d_list_four):\n",
    "        return d_list_four[0]\n",
    "    else:\n",
    "        return x"
   ]
  },
  {
   "cell_type": "code",
   "execution_count": 9,
   "metadata": {
    "ExecuteTime": {
     "end_time": "2019-03-08T16:40:03.670642Z",
     "start_time": "2019-03-08T16:39:57.316267Z"
    }
   },
   "outputs": [
    {
     "data": {
      "text/plain": [
       "南北      11368\n",
       "南        2726\n",
       "东西       1388\n",
       "东南       1313\n",
       "西南       1252\n",
       "东         843\n",
       "西         802\n",
       "西北        734\n",
       "东北        645\n",
       "西南北       495\n",
       "东南北       485\n",
       "北         484\n",
       "东西北       149\n",
       "东西南       142\n",
       "东西南北      120\n",
       "Name: Direction, dtype: int64"
      ]
     },
     "execution_count": 9,
     "metadata": {},
     "output_type": "execute_result"
    }
   ],
   "source": [
    "# 通过 apply() 方法将 Direction 数据格式转换\n",
    "d_list_one = ['东', '西', '南', '北']\n",
    "d_list_two = ['东西', '东南', '东北', '西南', '西北', '南北']\n",
    "d_list_three = ['东西南', '东西北', '东南北', '西南北']\n",
    "d_list_four = ['东西南北']\n",
    "df['Direction'] = df['Direction'].apply(direct_func)\n",
    "df = df.loc[(df['Direction'] != 'no') & (df['Direction'] != 'nan')]\n",
    "\n",
    "df['Direction'].value_counts()"
   ]
  },
  {
   "cell_type": "markdown",
   "metadata": {},
   "source": [
    "### 创建新特征"
   ]
  },
  {
   "cell_type": "markdown",
   "metadata": {
    "ExecuteTime": {
     "end_time": "2019-03-06T13:19:30.114174Z",
     "start_time": "2019-03-06T13:19:30.108971Z"
    }
   },
   "source": [
    "有时候仅靠已有的一些特征是不够的，***需要根据对业务的理解***，定义一些的新特征，然后尝试这些新特征对模型的影响，在实战中会经常使用这种方法。\n",
    "这里尝试将\"室\"与\"厅\"的数量相加作为一个总数量特征，然后将房屋大小Size与总数量的比值作为一个新特征，可理解为 \"每个房间的平均面积大小\"。当然，新特征不是固定的，***可根据自己的理解来灵活的定义***。"
   ]
  },
  {
   "cell_type": "code",
   "execution_count": 10,
   "metadata": {
    "ExecuteTime": {
     "end_time": "2019-03-08T16:40:04.088135Z",
     "start_time": "2019-03-08T16:40:03.673056Z"
    }
   },
   "outputs": [],
   "source": [
    "df['Layout_total_num'] = df['Layout_room_num']+df['Layout_hall_num']\n",
    "df['Size_room_ratio'] = df['Size']/df['Layout_total_num']"
   ]
  },
  {
   "cell_type": "code",
   "execution_count": 11,
   "metadata": {
    "ExecuteTime": {
     "end_time": "2019-03-08T16:40:04.165075Z",
     "start_time": "2019-03-08T16:40:04.091258Z"
    }
   },
   "outputs": [],
   "source": [
    "# 删除无用特征\n",
    "df = df.drop(['Layout', 'PerPrice', 'Garden', 'District'], axis=1)"
   ]
  },
  {
   "cell_type": "code",
   "execution_count": 12,
   "metadata": {
    "ExecuteTime": {
     "end_time": "2019-03-08T16:40:04.189388Z",
     "start_time": "2019-03-08T16:40:04.167455Z"
    }
   },
   "outputs": [],
   "source": [
    "def one_hot_encoder(df, nan_as_category=True):\n",
    "    original_columns = list(df.columns)\n",
    "    categorical_columns = [\n",
    "        col for col in df.columns if df[col].dtype == 'object']\n",
    "    df = pd.get_dummies(df, columns=categorical_columns,\n",
    "                        dummy_na=nan_as_category)\n",
    "    new_columns = [c for c in df.columns if c not in original_columns]\n",
    "    return df, new_columns"
   ]
  },
  {
   "cell_type": "code",
   "execution_count": 13,
   "metadata": {
    "ExecuteTime": {
     "end_time": "2019-03-08T16:40:04.427814Z",
     "start_time": "2019-03-08T16:40:04.193235Z"
    }
   },
   "outputs": [
    {
     "data": {
      "text/html": [
       "<div>\n",
       "<style scoped>\n",
       "    .dataframe tbody tr th:only-of-type {\n",
       "        vertical-align: middle;\n",
       "    }\n",
       "\n",
       "    .dataframe tbody tr th {\n",
       "        vertical-align: top;\n",
       "    }\n",
       "\n",
       "    .dataframe thead th {\n",
       "        text-align: right;\n",
       "    }\n",
       "</style>\n",
       "<table border=\"1\" class=\"dataframe\">\n",
       "  <thead>\n",
       "    <tr style=\"text-align: right;\">\n",
       "      <th></th>\n",
       "      <th>Floor</th>\n",
       "      <th>Size</th>\n",
       "      <th>Price</th>\n",
       "      <th>Layout_room_num</th>\n",
       "      <th>Layout_hall_num</th>\n",
       "      <th>Layout_total_num</th>\n",
       "      <th>Size_room_ratio</th>\n",
       "      <th>Region_东城</th>\n",
       "      <th>Region_丰台</th>\n",
       "      <th>Region_亦庄开发区</th>\n",
       "      <th>...</th>\n",
       "      <th>Direction_西</th>\n",
       "      <th>Direction_西北</th>\n",
       "      <th>Direction_西南</th>\n",
       "      <th>Direction_西南北</th>\n",
       "      <th>Direction_nan</th>\n",
       "      <th>Renovation_其他</th>\n",
       "      <th>Renovation_毛坯</th>\n",
       "      <th>Renovation_简装</th>\n",
       "      <th>Renovation_精装</th>\n",
       "      <th>Renovation_nan</th>\n",
       "    </tr>\n",
       "  </thead>\n",
       "  <tbody>\n",
       "    <tr>\n",
       "      <th>0</th>\n",
       "      <td>6</td>\n",
       "      <td>75.0</td>\n",
       "      <td>780.0</td>\n",
       "      <td>3</td>\n",
       "      <td>1</td>\n",
       "      <td>4</td>\n",
       "      <td>18.75</td>\n",
       "      <td>1</td>\n",
       "      <td>0</td>\n",
       "      <td>0</td>\n",
       "      <td>...</td>\n",
       "      <td>0</td>\n",
       "      <td>0</td>\n",
       "      <td>0</td>\n",
       "      <td>0</td>\n",
       "      <td>0</td>\n",
       "      <td>0</td>\n",
       "      <td>0</td>\n",
       "      <td>0</td>\n",
       "      <td>1</td>\n",
       "      <td>0</td>\n",
       "    </tr>\n",
       "    <tr>\n",
       "      <th>1</th>\n",
       "      <td>6</td>\n",
       "      <td>60.0</td>\n",
       "      <td>705.0</td>\n",
       "      <td>2</td>\n",
       "      <td>1</td>\n",
       "      <td>3</td>\n",
       "      <td>20.00</td>\n",
       "      <td>1</td>\n",
       "      <td>0</td>\n",
       "      <td>0</td>\n",
       "      <td>...</td>\n",
       "      <td>0</td>\n",
       "      <td>0</td>\n",
       "      <td>0</td>\n",
       "      <td>0</td>\n",
       "      <td>0</td>\n",
       "      <td>0</td>\n",
       "      <td>0</td>\n",
       "      <td>0</td>\n",
       "      <td>1</td>\n",
       "      <td>0</td>\n",
       "    </tr>\n",
       "    <tr>\n",
       "      <th>2</th>\n",
       "      <td>16</td>\n",
       "      <td>210.0</td>\n",
       "      <td>1400.0</td>\n",
       "      <td>3</td>\n",
       "      <td>1</td>\n",
       "      <td>4</td>\n",
       "      <td>52.50</td>\n",
       "      <td>1</td>\n",
       "      <td>0</td>\n",
       "      <td>0</td>\n",
       "      <td>...</td>\n",
       "      <td>0</td>\n",
       "      <td>0</td>\n",
       "      <td>1</td>\n",
       "      <td>0</td>\n",
       "      <td>0</td>\n",
       "      <td>1</td>\n",
       "      <td>0</td>\n",
       "      <td>0</td>\n",
       "      <td>0</td>\n",
       "      <td>0</td>\n",
       "    </tr>\n",
       "  </tbody>\n",
       "</table>\n",
       "<p>3 rows × 57 columns</p>\n",
       "</div>"
      ],
      "text/plain": [
       "   Floor   Size   Price  Layout_room_num  Layout_hall_num  Layout_total_num  \\\n",
       "0      6   75.0   780.0                3                1                 4   \n",
       "1      6   60.0   705.0                2                1                 3   \n",
       "2     16  210.0  1400.0                3                1                 4   \n",
       "\n",
       "   Size_room_ratio  Region_东城  Region_丰台  Region_亦庄开发区  ...  Direction_西  \\\n",
       "0            18.75          1          0             0  ...            0   \n",
       "1            20.00          1          0             0  ...            0   \n",
       "2            52.50          1          0             0  ...            0   \n",
       "\n",
       "   Direction_西北  Direction_西南  Direction_西南北  Direction_nan  Renovation_其他  \\\n",
       "0             0             0              0              0              0   \n",
       "1             0             0              0              0              0   \n",
       "2             0             1              0              0              1   \n",
       "\n",
       "   Renovation_毛坯  Renovation_简装  Renovation_精装  Renovation_nan  \n",
       "0              0              0              1               0  \n",
       "1              0              0              1               0  \n",
       "2              0              0              0               0  \n",
       "\n",
       "[3 rows x 57 columns]"
      ]
     },
     "metadata": {},
     "output_type": "display_data"
    },
    {
     "data": {
      "text/plain": [
       "['Region_东城',\n",
       " 'Region_丰台',\n",
       " 'Region_亦庄开发区',\n",
       " 'Region_大兴',\n",
       " 'Region_密云',\n",
       " 'Region_平谷',\n",
       " 'Region_怀柔',\n",
       " 'Region_房山',\n",
       " 'Region_昌平',\n",
       " 'Region_朝阳',\n",
       " 'Region_海淀',\n",
       " 'Region_石景山',\n",
       " 'Region_西城',\n",
       " 'Region_通州',\n",
       " 'Region_门头沟',\n",
       " 'Region_顺义',\n",
       " 'Region_nan',\n",
       " 'Year_(1949.999, 1990.0]',\n",
       " 'Year_(1990.0, 1997.0]',\n",
       " 'Year_(1997.0, 2000.0]',\n",
       " 'Year_(2000.0, 2003.0]',\n",
       " 'Year_(2003.0, 2004.0]',\n",
       " 'Year_(2004.0, 2007.0]',\n",
       " 'Year_(2007.0, 2010.0]',\n",
       " 'Year_(2010.0, 2017.0]',\n",
       " 'Year_nan',\n",
       " 'Elevator_无电梯',\n",
       " 'Elevator_有电梯',\n",
       " 'Elevator_nan',\n",
       " 'Direction_东',\n",
       " 'Direction_东北',\n",
       " 'Direction_东南',\n",
       " 'Direction_东南北',\n",
       " 'Direction_东西',\n",
       " 'Direction_东西北',\n",
       " 'Direction_东西南',\n",
       " 'Direction_东西南北',\n",
       " 'Direction_北',\n",
       " 'Direction_南',\n",
       " 'Direction_南北',\n",
       " 'Direction_西',\n",
       " 'Direction_西北',\n",
       " 'Direction_西南',\n",
       " 'Direction_西南北',\n",
       " 'Direction_nan',\n",
       " 'Renovation_其他',\n",
       " 'Renovation_毛坯',\n",
       " 'Renovation_简装',\n",
       " 'Renovation_精装',\n",
       " 'Renovation_nan']"
      ]
     },
     "execution_count": 13,
     "metadata": {},
     "output_type": "execute_result"
    }
   ],
   "source": [
    "df, df_cat = one_hot_encoder(df)\n",
    "display(df.head(n=3))\n",
    "df_cat"
   ]
  },
  {
   "cell_type": "markdown",
   "metadata": {
    "ExecuteTime": {
     "end_time": "2019-03-06T13:25:10.484833Z",
     "start_time": "2019-03-06T13:25:10.425491Z"
    }
   },
   "source": [
    "<p>这部分是 One-hot 独热编码，因为像 Region，Year（离散分箱后），Direction，Renovation，Elevator等特征都是定类的非数值型类型，而作为模型的输入我们需要将这些非数值量化。</p>\n",
    "\n",
    "<p>在没有一定顺序（定序类型）的情况下，使用独热编码处理定类数据是非常常用的做法，在pandas中非常简单，就是使用 get_dummies() 方法，而对于像Size这样的定比数据则不使用独热，博主这里用了一个自己封装的函数实现了定类数据的自动量化处理。</p>"
   ]
  },
  {
   "cell_type": "markdown",
   "metadata": {},
   "source": [
    "### 特征相关性"
   ]
  },
  {
   "cell_type": "code",
   "execution_count": 14,
   "metadata": {
    "ExecuteTime": {
     "end_time": "2019-03-08T16:40:07.254898Z",
     "start_time": "2019-03-08T16:40:04.429632Z"
    },
    "scrolled": false
   },
   "outputs": [
    {
     "data": {
      "text/plain": [
       "<matplotlib.axes._subplots.AxesSubplot at 0x7f648aa205c0>"
      ]
     },
     "execution_count": 14,
     "metadata": {},
     "output_type": "execute_result"
    },
    {
     "data": {
      "image/png": "[encoded data removed]",
      "text/plain": [
       "<Figure size 1440x1440 with 2 Axes>"
      ]
     },
     "metadata": {
      "needs_background": "light"
     },
     "output_type": "display_data"
    }
   ],
   "source": [
    "colormap = plt.cm.RdBu\n",
    "plt.figure(figsize=(20, 20))\n",
    "sns.heatmap(df.corr(),\n",
    "            linewidths=0.1,\n",
    "            vmax=1.0,\n",
    "            square=True,\n",
    "            cmap=colormap,\n",
    "            linecolor='white',\n",
    "            annot=False)"
   ]
  },
  {
   "cell_type": "markdown",
   "metadata": {},
   "source": [
    "颜色偏红或者偏蓝都说明相关系数较大，即两个特征对于目标变量的影响程度相似，即存在严重的重复信息，会造成过拟合现象。因此，通过特征相关性分析，我们可以找出哪些特征有严重的重叠信息，然后择优选择。"
   ]
  },
  {
   "cell_type": "markdown",
   "metadata": {
    "ExecuteTime": {
     "end_time": "2019-03-06T14:51:25.505677Z",
     "start_time": "2019-03-06T14:51:25.338358Z"
    }
   },
   "source": [
    "## 建模预测"
   ]
  },
  {
   "cell_type": "code",
   "execution_count": 15,
   "metadata": {
    "ExecuteTime": {
     "end_time": "2019-03-08T16:40:07.268641Z",
     "start_time": "2019-03-08T16:40:07.259636Z"
    }
   },
   "outputs": [
    {
     "name": "stdout",
     "output_type": "stream",
     "text": [
      "北京二手房房价有数据 22946 条，字段 57 个\n"
     ]
    }
   ],
   "source": [
    "# 特征变量和目标变量\n",
    "features = df.drop('Price', axis=1)\n",
    "prices = df['Price']\n",
    "\n",
    "# 把分类特征都转成数值型后有{}行{}列\n",
    "print('北京二手房房价有数据 {0} 条，字段 {1} 个' .format(*df.shape))"
   ]
  },
  {
   "cell_type": "code",
   "execution_count": 16,
   "metadata": {
    "ExecuteTime": {
     "end_time": "2019-03-08T16:40:07.545094Z",
     "start_time": "2019-03-08T16:40:07.271109Z"
    }
   },
   "outputs": [],
   "source": [
    "# 将数据集划分为训练集与测试集\n",
    "from sklearn.model_selection import train_test_split\n",
    "features = np.array(features)\n",
    "prices = np.array(prices)\n",
    "# 导入 sklearn 进行训练测试集划分\n",
    "\n",
    "features_train, features_test, prices_train, prices_test = train_test_split(features,\n",
    "                                                                            prices,\n",
    "                                                                            test_size=0.2,\n",
    "                                                                            random_state=0)"
   ]
  },
  {
   "cell_type": "code",
   "execution_count": 17,
   "metadata": {
    "ExecuteTime": {
     "end_time": "2019-03-08T16:40:07.869505Z",
     "start_time": "2019-03-08T16:40:07.546882Z"
    }
   },
   "outputs": [],
   "source": [
    "# 建立模型\n",
    "from sklearn.model_selection import KFold\n",
    "from sklearn.tree import DecisionTreeRegressor\n",
    "from sklearn.metrics import make_scorer\n",
    "from sklearn.model_selection import GridSearchCV\n",
    "\n",
    "# 通过交叉认证缓解数据集过拟合的现象\n",
    "# 建立决策树回归模型\n",
    "# 通过GridSearchCV找到最优深度参数（基于输入数据[X,y] 利于网格搜索找到最优的决策树模型）\n",
    "\n",
    "\n",
    "def fit_model(X, y):\n",
    "\n",
    "    cross_validator = KFold(10, shuffle=True)\n",
    "    regressor = DecisionTreeRegressor()\n",
    "    params = {'max_depth': [1, 2, 3, 4, 5, 6, 7, 8, 9, 10]}\n",
    "    scoring_fnc = make_scorer(performance_metric)\n",
    "    grid = GridSearchCV(estimator=regressor, param_grid=params,\n",
    "                        scoring=scoring_fnc, cv=cross_validator)\n",
    "\n",
    "    # 网格搜索\n",
    "    grid = grid.fit(X, y)\n",
    "    return grid.best_estimator_"
   ]
  },
  {
   "cell_type": "code",
   "execution_count": 18,
   "metadata": {
    "ExecuteTime": {
     "end_time": "2019-03-08T16:40:13.596404Z",
     "start_time": "2019-03-08T16:40:07.872011Z"
    }
   },
   "outputs": [
    {
     "name": "stdout",
     "output_type": "stream",
     "text": [
      "最优模型的参数 max_depth 是: 10 \n",
      "最优模型在测试数据上 R^2 分数  0.76\n"
     ]
    }
   ],
   "source": [
    "# 计算 R2 分数\n",
    "from sklearn.metrics import r2_score\n",
    "\n",
    "def performance_metric(y_true, y_predict):\n",
    "    score = r2_score(y_true, y_predict)\n",
    "    \n",
    "    return score\n",
    "    \n",
    "# 调参优化模型\n",
    "# 通过可视化模型学习曲线，观察是否出现过拟合问题\n",
    "# visuals 为自定义函数\n",
    "# import visuals as vs\n",
    "\n",
    "# 分析模型\n",
    "# vs.ModelLearning(features_train, prices_train)\n",
    "# vs.ModelComplexity(features_train, prices_train)\n",
    "optimal = fit_model(features_train, prices_train)\n",
    "\n",
    "# 输出最优模型的参数 'max_depth'\n",
    "print('最优模型的参数 max_depth 是: {} ' .format(optimal.get_params()['max_depth']))\n",
    "\n",
    "predicted_value = optimal.predict(features_test)\n",
    "r2 = performance_metric(prices_test, predicted_value)\n",
    "\n",
    "# 每次交叉验证得到的数据集不同，因此每次运行的结果也不一定相同\n",
    "print('最优模型在测试数据上 R^2 分数 {: .2f}' .format(r2))"
   ]
  },
  {
   "cell_type": "code",
   "execution_count": null,
   "metadata": {},
   "outputs": [],
   "source": []
  }
 ],
 "metadata": {
  "kernelspec": {
   "display_name": "Python 3",
   "language": "python",
   "name": "python3"
  },
  "language_info": {
   "codemirror_mode": {
    "name": "ipython",
    "version": 3
   },
   "file_extension": ".py",
   "mimetype": "text/x-python",
   "name": "python",
   "nbconvert_exporter": "python",
   "pygments_lexer": "ipython3",
   "version": "3.6.8"
  },
  "toc": {
   "base_numbering": 1,
   "nav_menu": {},
   "number_sections": true,
   "sideBar": true,
   "skip_h1_title": false,
   "title_cell": "Table of Contents",
   "title_sidebar": "Contents",
   "toc_cell": false,
   "toc_position": {},
   "toc_section_display": true,
   "toc_window_display": false
  },
  "varInspector": {
   "cols": {
    "lenName": 16,
    "lenType": 16,
    "lenVar": 40
   },
   "kernels_config": {
    "python": {
     "delete_cmd_postfix": "",
     "delete_cmd_prefix": "del ",
     "library": "var_list.py",
     "varRefreshCmd": "print(var_dic_list())"
    },
    "r": {
     "delete_cmd_postfix": ") ",
     "delete_cmd_prefix": "rm(",
     "library": "var_list.r",
     "varRefreshCmd": "cat(var_dic_list()) "
    }
   },
   "types_to_exclude": [
    "module",
    "function",
    "builtin_function_or_method",
    "instance",
    "_Feature"
   ],
   "window_display": false
  }
 },
 "nbformat": 4,
 "nbformat_minor": 2
}
