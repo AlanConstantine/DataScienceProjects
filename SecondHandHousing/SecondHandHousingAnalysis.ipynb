{
 "cells": [
  {
   "cell_type": "code",
   "execution_count": 9,
   "metadata": {
    "ExecuteTime": {
     "end_time": "2019-03-04T05:35:22.817214Z",
     "start_time": "2019-03-04T05:35:22.696406Z"
    }
   },
   "outputs": [],
   "source": [
    "from IPython.display import display\n",
    "import matplotlib.pyplot as plt\n",
    "import pandas as pd\n",
    "import numpy as np\n",
    "import seaborn as sns\n",
    "import matplotlib as mpl\n",
    "import warnings\n",
    "warnings.filterwarnings(\"ignore\")\n",
    "\n",
    "# import matplotlib as mpl\n",
    "# mpl.rcParams['font.sans-serif'] = ['simhei']\n",
    "# mpl.rcParams['font.serif'] = ['simhei']\n",
    "\n",
    "plt.style.use(\"fivethirtyeight\")\n",
    "\n",
    "from matplotlib.font_manager import FontProperties\n",
    "myfont=FontProperties(fname='/home/alan/anaconda3/lib/python3.6/site-packages/matplotlib/mpl-data/fonts/ttf/simhei.ttf')\n",
    "sns.set(font=myfont.get_name())\n",
    "# sns.set_style({'font.sans-serif': ['simsun', 'Arial']})\n",
    "# sns.set_style('darkgrid',{'font.sans-serif':['simhei','Arial']})\n",
    "%matplotlib inline"
   ]
  },
  {
   "cell_type": "code",
   "execution_count": 10,
   "metadata": {
    "ExecuteTime": {
     "end_time": "2019-03-04T05:35:24.582929Z",
     "start_time": "2019-03-04T05:35:24.311038Z"
    }
   },
   "outputs": [],
   "source": [
    "lianjia_df = pd.read_csv('./Data/lianjia.csv')"
   ]
  },
  {
   "cell_type": "markdown",
   "metadata": {},
   "source": [
    "## 数据加载"
   ]
  },
  {
   "cell_type": "code",
   "execution_count": 11,
   "metadata": {
    "ExecuteTime": {
     "end_time": "2019-03-04T05:35:25.140088Z",
     "start_time": "2019-03-04T05:35:25.118425Z"
    }
   },
   "outputs": [
    {
     "data": {
      "text/html": [
       "<div>\n",
       "<style scoped>\n",
       "    .dataframe tbody tr th:only-of-type {\n",
       "        vertical-align: middle;\n",
       "    }\n",
       "\n",
       "    .dataframe tbody tr th {\n",
       "        vertical-align: top;\n",
       "    }\n",
       "\n",
       "    .dataframe thead th {\n",
       "        text-align: right;\n",
       "    }\n",
       "</style>\n",
       "<table border=\"1\" class=\"dataframe\">\n",
       "  <thead>\n",
       "    <tr style=\"text-align: right;\">\n",
       "      <th></th>\n",
       "      <th>Direction</th>\n",
       "      <th>District</th>\n",
       "      <th>Elevator</th>\n",
       "      <th>Floor</th>\n",
       "      <th>Garden</th>\n",
       "      <th>Id</th>\n",
       "      <th>Layout</th>\n",
       "      <th>Price</th>\n",
       "      <th>Region</th>\n",
       "      <th>Renovation</th>\n",
       "      <th>Size</th>\n",
       "      <th>Year</th>\n",
       "    </tr>\n",
       "  </thead>\n",
       "  <tbody>\n",
       "    <tr>\n",
       "      <th>0</th>\n",
       "      <td>东西</td>\n",
       "      <td>灯市口</td>\n",
       "      <td>NaN</td>\n",
       "      <td>6</td>\n",
       "      <td>锡拉胡同21号院</td>\n",
       "      <td>101102647043</td>\n",
       "      <td>3室1厅</td>\n",
       "      <td>780.0</td>\n",
       "      <td>东城</td>\n",
       "      <td>精装</td>\n",
       "      <td>75.0</td>\n",
       "      <td>1988</td>\n",
       "    </tr>\n",
       "    <tr>\n",
       "      <th>1</th>\n",
       "      <td>南北</td>\n",
       "      <td>东单</td>\n",
       "      <td>无电梯</td>\n",
       "      <td>6</td>\n",
       "      <td>东华门大街</td>\n",
       "      <td>101102650978</td>\n",
       "      <td>2室1厅</td>\n",
       "      <td>705.0</td>\n",
       "      <td>东城</td>\n",
       "      <td>精装</td>\n",
       "      <td>60.0</td>\n",
       "      <td>1988</td>\n",
       "    </tr>\n",
       "    <tr>\n",
       "      <th>2</th>\n",
       "      <td>南西</td>\n",
       "      <td>崇文门</td>\n",
       "      <td>有电梯</td>\n",
       "      <td>16</td>\n",
       "      <td>新世界中心</td>\n",
       "      <td>101102672743</td>\n",
       "      <td>3室1厅</td>\n",
       "      <td>1400.0</td>\n",
       "      <td>东城</td>\n",
       "      <td>其他</td>\n",
       "      <td>210.0</td>\n",
       "      <td>1996</td>\n",
       "    </tr>\n",
       "    <tr>\n",
       "      <th>3</th>\n",
       "      <td>南</td>\n",
       "      <td>崇文门</td>\n",
       "      <td>NaN</td>\n",
       "      <td>7</td>\n",
       "      <td>兴隆都市馨园</td>\n",
       "      <td>101102577410</td>\n",
       "      <td>1室1厅</td>\n",
       "      <td>420.0</td>\n",
       "      <td>东城</td>\n",
       "      <td>精装</td>\n",
       "      <td>39.0</td>\n",
       "      <td>2004</td>\n",
       "    </tr>\n",
       "    <tr>\n",
       "      <th>4</th>\n",
       "      <td>南</td>\n",
       "      <td>陶然亭</td>\n",
       "      <td>有电梯</td>\n",
       "      <td>19</td>\n",
       "      <td>中海紫御公馆</td>\n",
       "      <td>101102574696</td>\n",
       "      <td>2室2厅</td>\n",
       "      <td>998.0</td>\n",
       "      <td>东城</td>\n",
       "      <td>精装</td>\n",
       "      <td>90.0</td>\n",
       "      <td>2010</td>\n",
       "    </tr>\n",
       "  </tbody>\n",
       "</table>\n",
       "</div>"
      ],
      "text/plain": [
       "  Direction District Elevator  Floor    Garden            Id Layout   Price  \\\n",
       "0        东西      灯市口      NaN      6  锡拉胡同21号院  101102647043   3室1厅   780.0   \n",
       "1        南北       东单      无电梯      6     东华门大街  101102650978   2室1厅   705.0   \n",
       "2        南西      崇文门      有电梯     16     新世界中心  101102672743   3室1厅  1400.0   \n",
       "3         南      崇文门      NaN      7    兴隆都市馨园  101102577410   1室1厅   420.0   \n",
       "4         南      陶然亭      有电梯     19    中海紫御公馆  101102574696   2室2厅   998.0   \n",
       "\n",
       "  Region Renovation   Size  Year  \n",
       "0     东城         精装   75.0  1988  \n",
       "1     东城         精装   60.0  1988  \n",
       "2     东城         其他  210.0  1996  \n",
       "3     东城         精装   39.0  2004  \n",
       "4     东城         精装   90.0  2010  "
      ]
     },
     "metadata": {},
     "output_type": "display_data"
    }
   ],
   "source": [
    "display(lianjia_df.head(n=5))"
   ]
  },
  {
   "cell_type": "code",
   "execution_count": 12,
   "metadata": {
    "ExecuteTime": {
     "end_time": "2019-03-04T05:35:25.546697Z",
     "start_time": "2019-03-04T05:35:25.494935Z"
    }
   },
   "outputs": [
    {
     "name": "stdout",
     "output_type": "stream",
     "text": [
      "<class 'pandas.core.frame.DataFrame'>\n",
      "RangeIndex: 23677 entries, 0 to 23676\n",
      "Data columns (total 12 columns):\n",
      "Direction     23677 non-null object\n",
      "District      23677 non-null object\n",
      "Elevator      15440 non-null object\n",
      "Floor         23677 non-null int64\n",
      "Garden        23677 non-null object\n",
      "Id            23677 non-null int64\n",
      "Layout        23677 non-null object\n",
      "Price         23677 non-null float64\n",
      "Region        23677 non-null object\n",
      "Renovation    23677 non-null object\n",
      "Size          23677 non-null float64\n",
      "Year          23677 non-null int64\n",
      "dtypes: float64(2), int64(3), object(7)\n",
      "memory usage: 2.2+ MB\n"
     ]
    }
   ],
   "source": [
    "lianjia_df.info()"
   ]
  },
  {
   "cell_type": "code",
   "execution_count": 13,
   "metadata": {
    "ExecuteTime": {
     "end_time": "2019-03-04T05:35:26.054706Z",
     "start_time": "2019-03-04T05:35:25.967809Z"
    }
   },
   "outputs": [
    {
     "data": {
      "text/html": [
       "<div>\n",
       "<style scoped>\n",
       "    .dataframe tbody tr th:only-of-type {\n",
       "        vertical-align: middle;\n",
       "    }\n",
       "\n",
       "    .dataframe tbody tr th {\n",
       "        vertical-align: top;\n",
       "    }\n",
       "\n",
       "    .dataframe thead th {\n",
       "        text-align: right;\n",
       "    }\n",
       "</style>\n",
       "<table border=\"1\" class=\"dataframe\">\n",
       "  <thead>\n",
       "    <tr style=\"text-align: right;\">\n",
       "      <th></th>\n",
       "      <th>Floor</th>\n",
       "      <th>Id</th>\n",
       "      <th>Price</th>\n",
       "      <th>Size</th>\n",
       "      <th>Year</th>\n",
       "    </tr>\n",
       "  </thead>\n",
       "  <tbody>\n",
       "    <tr>\n",
       "      <th>count</th>\n",
       "      <td>23677.000000</td>\n",
       "      <td>2.367700e+04</td>\n",
       "      <td>23677.000000</td>\n",
       "      <td>23677.000000</td>\n",
       "      <td>23677.000000</td>\n",
       "    </tr>\n",
       "    <tr>\n",
       "      <th>mean</th>\n",
       "      <td>12.765088</td>\n",
       "      <td>1.011024e+11</td>\n",
       "      <td>610.668319</td>\n",
       "      <td>99.149301</td>\n",
       "      <td>2001.326519</td>\n",
       "    </tr>\n",
       "    <tr>\n",
       "      <th>std</th>\n",
       "      <td>7.643932</td>\n",
       "      <td>5.652477e+05</td>\n",
       "      <td>411.452107</td>\n",
       "      <td>50.988838</td>\n",
       "      <td>9.001996</td>\n",
       "    </tr>\n",
       "    <tr>\n",
       "      <th>min</th>\n",
       "      <td>1.000000</td>\n",
       "      <td>1.010886e+11</td>\n",
       "      <td>60.000000</td>\n",
       "      <td>2.000000</td>\n",
       "      <td>1950.000000</td>\n",
       "    </tr>\n",
       "    <tr>\n",
       "      <th>25%</th>\n",
       "      <td>6.000000</td>\n",
       "      <td>1.011022e+11</td>\n",
       "      <td>365.000000</td>\n",
       "      <td>66.000000</td>\n",
       "      <td>1997.000000</td>\n",
       "    </tr>\n",
       "    <tr>\n",
       "      <th>50%</th>\n",
       "      <td>11.000000</td>\n",
       "      <td>1.011025e+11</td>\n",
       "      <td>499.000000</td>\n",
       "      <td>88.000000</td>\n",
       "      <td>2003.000000</td>\n",
       "    </tr>\n",
       "    <tr>\n",
       "      <th>75%</th>\n",
       "      <td>18.000000</td>\n",
       "      <td>1.011027e+11</td>\n",
       "      <td>717.000000</td>\n",
       "      <td>118.000000</td>\n",
       "      <td>2007.000000</td>\n",
       "    </tr>\n",
       "    <tr>\n",
       "      <th>max</th>\n",
       "      <td>57.000000</td>\n",
       "      <td>1.011028e+11</td>\n",
       "      <td>6000.000000</td>\n",
       "      <td>1019.000000</td>\n",
       "      <td>2017.000000</td>\n",
       "    </tr>\n",
       "  </tbody>\n",
       "</table>\n",
       "</div>"
      ],
      "text/plain": [
       "              Floor            Id         Price          Size          Year\n",
       "count  23677.000000  2.367700e+04  23677.000000  23677.000000  23677.000000\n",
       "mean      12.765088  1.011024e+11    610.668319     99.149301   2001.326519\n",
       "std        7.643932  5.652477e+05    411.452107     50.988838      9.001996\n",
       "min        1.000000  1.010886e+11     60.000000      2.000000   1950.000000\n",
       "25%        6.000000  1.011022e+11    365.000000     66.000000   1997.000000\n",
       "50%       11.000000  1.011025e+11    499.000000     88.000000   2003.000000\n",
       "75%       18.000000  1.011027e+11    717.000000    118.000000   2007.000000\n",
       "max       57.000000  1.011028e+11   6000.000000   1019.000000   2017.000000"
      ]
     },
     "execution_count": 13,
     "metadata": {},
     "output_type": "execute_result"
    }
   ],
   "source": [
    "lianjia_df.describe()"
   ]
  },
  {
   "cell_type": "code",
   "execution_count": 14,
   "metadata": {
    "ExecuteTime": {
     "end_time": "2019-03-04T05:35:26.621933Z",
     "start_time": "2019-03-04T05:35:26.552283Z"
    }
   },
   "outputs": [
    {
     "data": {
      "text/html": [
       "<div>\n",
       "<style scoped>\n",
       "    .dataframe tbody tr th:only-of-type {\n",
       "        vertical-align: middle;\n",
       "    }\n",
       "\n",
       "    .dataframe tbody tr th {\n",
       "        vertical-align: top;\n",
       "    }\n",
       "\n",
       "    .dataframe thead th {\n",
       "        text-align: right;\n",
       "    }\n",
       "</style>\n",
       "<table border=\"1\" class=\"dataframe\">\n",
       "  <thead>\n",
       "    <tr style=\"text-align: right;\">\n",
       "      <th></th>\n",
       "      <th>Region</th>\n",
       "      <th>District</th>\n",
       "      <th>Garden</th>\n",
       "      <th>Layout</th>\n",
       "      <th>Floor</th>\n",
       "      <th>Year</th>\n",
       "      <th>Size</th>\n",
       "      <th>Elevator</th>\n",
       "      <th>Direction</th>\n",
       "      <th>Renovation</th>\n",
       "      <th>PerPrice</th>\n",
       "      <th>Price</th>\n",
       "    </tr>\n",
       "  </thead>\n",
       "  <tbody>\n",
       "    <tr>\n",
       "      <th>0</th>\n",
       "      <td>东城</td>\n",
       "      <td>灯市口</td>\n",
       "      <td>锡拉胡同21号院</td>\n",
       "      <td>3室1厅</td>\n",
       "      <td>6</td>\n",
       "      <td>1988</td>\n",
       "      <td>75.0</td>\n",
       "      <td>NaN</td>\n",
       "      <td>东西</td>\n",
       "      <td>精装</td>\n",
       "      <td>10.40</td>\n",
       "      <td>780.0</td>\n",
       "    </tr>\n",
       "    <tr>\n",
       "      <th>1</th>\n",
       "      <td>东城</td>\n",
       "      <td>东单</td>\n",
       "      <td>东华门大街</td>\n",
       "      <td>2室1厅</td>\n",
       "      <td>6</td>\n",
       "      <td>1988</td>\n",
       "      <td>60.0</td>\n",
       "      <td>无电梯</td>\n",
       "      <td>南北</td>\n",
       "      <td>精装</td>\n",
       "      <td>11.75</td>\n",
       "      <td>705.0</td>\n",
       "    </tr>\n",
       "  </tbody>\n",
       "</table>\n",
       "</div>"
      ],
      "text/plain": [
       "  Region District    Garden Layout  Floor  Year  Size Elevator Direction  \\\n",
       "0     东城      灯市口  锡拉胡同21号院   3室1厅      6  1988  75.0      NaN        东西   \n",
       "1     东城       东单     东华门大街   2室1厅      6  1988  60.0      无电梯        南北   \n",
       "\n",
       "  Renovation  PerPrice  Price  \n",
       "0         精装     10.40  780.0  \n",
       "1         精装     11.75  705.0  "
      ]
     },
     "metadata": {},
     "output_type": "display_data"
    }
   ],
   "source": [
    "df = lianjia_df.copy()\n",
    "\n",
    "# 增加每平方米价格\n",
    "df['PerPrice'] = lianjia_df['Price']/lianjia_df['Size']\n",
    "\n",
    "# 重新调整列位置\n",
    "columns = ['Region', 'District', 'Garden', 'Layout', 'Floor', 'Year',\n",
    "           'Size', 'Elevator', 'Direction', 'Renovation', 'PerPrice', 'Price']\n",
    "df = pd.DataFrame(df, columns=columns)\n",
    "display(df.head(n=2))"
   ]
  },
  {
   "cell_type": "markdown",
   "metadata": {},
   "source": [
    "## 数据可视化分析"
   ]
  },
  {
   "cell_type": "code",
   "execution_count": 15,
   "metadata": {
    "ExecuteTime": {
     "end_time": "2019-03-04T05:35:28.162751Z",
     "start_time": "2019-03-04T05:35:28.074494Z"
    }
   },
   "outputs": [],
   "source": [
    "# 对二手房进行分组，对比二手房数量和每平米房价\n",
    "df_house_count = df.groupby('Region')['Price'].count(\n",
    ").sort_values(ascending=False).to_frame().reset_index()\n",
    "df_house_mean = df.groupby('Region')['PerPrice'].mean(\n",
    ").sort_values(ascending=False).to_frame().reset_index()"
   ]
  },
  {
   "cell_type": "code",
   "execution_count": 16,
   "metadata": {
    "ExecuteTime": {
     "end_time": "2019-03-04T05:35:30.225747Z",
     "start_time": "2019-03-04T05:35:28.697209Z"
    }
   },
   "outputs": [
    {
     "data": {
      "image/png": "[encoded data removed]",
      "text/plain": [
       "<Figure size 1440x1080 with 3 Axes>"
      ]
     },
     "metadata": {
      "needs_background": "light"
     },
     "output_type": "display_data"
    }
   ],
   "source": [
    "f, [ax1, ax2, ax3] = plt.subplots(3, 1, figsize=(20, 15))\n",
    "\n",
    "sns.barplot(x='Region', y='PerPrice', palette='Blues_d',\n",
    "            data=df_house_mean, ax=ax1)\n",
    "ax1.set_title('北京各大区每平米房价对比', fontsize=15)\n",
    "ax1.set_xlabel('区域')\n",
    "ax1.set_ylabel('单价')\n",
    "\n",
    "sns.barplot(x='Region', y='Price', palette='Greens_d',\n",
    "            data=df_house_count, ax=ax2)\n",
    "ax2.set_title('北京各大区二手房数量对比', fontsize=15)\n",
    "ax2.set_xlabel('区域')\n",
    "ax2.set_ylabel('数量')\n",
    "\n",
    "sns.boxplot(x='Region', y='Price', data=df, ax=ax3)\n",
    "ax3.set_title('北京各大区域二手房房屋总价', fontsize=15)\n",
    "ax3.set_xlabel('区域')\n",
    "ax3.set_ylabel('房屋总价')\n",
    "\n",
    "plt.show()"
   ]
  },
  {
   "cell_type": "markdown",
   "metadata": {},
   "source": [
    "## SIZE特征分析"
   ]
  },
  {
   "cell_type": "code",
   "execution_count": 39,
   "metadata": {
    "ExecuteTime": {
     "end_time": "2019-03-02T15:50:53.492648Z",
     "start_time": "2019-03-02T15:50:50.532791Z"
    }
   },
   "outputs": [
    {
     "data": {
      "text/plain": [
       "<matplotlib.axes._subplots.AxesSubplot at 0x7fc3bdb9b898>"
      ]
     },
     "execution_count": 39,
     "metadata": {},
     "output_type": "execute_result"
    },
    {
     "data": {
      "image/png": "[encoded data removed]",
      "text/plain": [
       "<Figure size 1080x360 with 2 Axes>"
      ]
     },
     "metadata": {
      "needs_background": "light"
     },
     "output_type": "display_data"
    }
   ],
   "source": [
    "f, [ax1, ax2] = plt.subplots(1, 2, figsize=(15, 5))\n",
    "\n",
    "# 建房时间分布请款\n",
    "sns.distplot(df['Size'], bins=20, ax=ax1, color='r')\n",
    "# distplot: 带分布形态的直方图, bins: 直方图数量\n",
    "sns.kdeplot(df['Size'], shade=True, ax=ax1)\n",
    "# kdeplot: 核密度估计(kernel density estimation)\n",
    "\n",
    "# 建房时间和出售价格的关系\n",
    "sns.regplot(x='Size', y='Price', data=df, ax=ax2)  # 线性回归关系"
   ]
  },
  {
   "cell_type": "markdown",
   "metadata": {},
   "source": [
    "分析regplot存在异常值，即 1.面积不到10平米，价格超过了1000万 2.有一个点的面积超出了1000平米，但是价格很低。"
   ]
  },
  {
   "cell_type": "code",
   "execution_count": 41,
   "metadata": {
    "ExecuteTime": {
     "end_time": "2019-03-02T16:08:30.642515Z",
     "start_time": "2019-03-02T16:08:30.604753Z"
    }
   },
   "outputs": [
    {
     "data": {
      "text/html": [
       "<div>\n",
       "<style scoped>\n",
       "    .dataframe tbody tr th:only-of-type {\n",
       "        vertical-align: middle;\n",
       "    }\n",
       "\n",
       "    .dataframe tbody tr th {\n",
       "        vertical-align: top;\n",
       "    }\n",
       "\n",
       "    .dataframe thead th {\n",
       "        text-align: right;\n",
       "    }\n",
       "</style>\n",
       "<table border=\"1\" class=\"dataframe\">\n",
       "  <thead>\n",
       "    <tr style=\"text-align: right;\">\n",
       "      <th></th>\n",
       "      <th>Region</th>\n",
       "      <th>District</th>\n",
       "      <th>Garden</th>\n",
       "      <th>Layout</th>\n",
       "      <th>Floor</th>\n",
       "      <th>Year</th>\n",
       "      <th>Size</th>\n",
       "      <th>Elevator</th>\n",
       "      <th>Direction</th>\n",
       "      <th>Renovation</th>\n",
       "      <th>PerPrice</th>\n",
       "      <th>Price</th>\n",
       "    </tr>\n",
       "  </thead>\n",
       "  <tbody>\n",
       "    <tr>\n",
       "      <th>1168</th>\n",
       "      <td>房山</td>\n",
       "      <td>长阳</td>\n",
       "      <td>世茂维拉</td>\n",
       "      <td>叠拼别墅</td>\n",
       "      <td>5</td>\n",
       "      <td>2015</td>\n",
       "      <td>5.0</td>\n",
       "      <td>毛坯</td>\n",
       "      <td>240.97平米</td>\n",
       "      <td>南北</td>\n",
       "      <td>216.000000</td>\n",
       "      <td>1080.0</td>\n",
       "    </tr>\n",
       "    <tr>\n",
       "      <th>1458</th>\n",
       "      <td>房山</td>\n",
       "      <td>长阳</td>\n",
       "      <td>世茂维拉</td>\n",
       "      <td>叠拼别墅</td>\n",
       "      <td>5</td>\n",
       "      <td>2015</td>\n",
       "      <td>5.0</td>\n",
       "      <td>毛坯</td>\n",
       "      <td>242.78平米</td>\n",
       "      <td>南北</td>\n",
       "      <td>220.000000</td>\n",
       "      <td>1100.0</td>\n",
       "    </tr>\n",
       "    <tr>\n",
       "      <th>1797</th>\n",
       "      <td>房山</td>\n",
       "      <td>长阳</td>\n",
       "      <td>世茂维拉</td>\n",
       "      <td>叠拼别墅</td>\n",
       "      <td>5</td>\n",
       "      <td>2015</td>\n",
       "      <td>5.0</td>\n",
       "      <td>精装</td>\n",
       "      <td>242.96平米</td>\n",
       "      <td>南北</td>\n",
       "      <td>196.000000</td>\n",
       "      <td>980.0</td>\n",
       "    </tr>\n",
       "    <tr>\n",
       "      <th>2268</th>\n",
       "      <td>顺义</td>\n",
       "      <td>顺义其它</td>\n",
       "      <td>龙湖好望山</td>\n",
       "      <td>叠拼别墅</td>\n",
       "      <td>4</td>\n",
       "      <td>2014</td>\n",
       "      <td>4.0</td>\n",
       "      <td>精装</td>\n",
       "      <td>295.88平米</td>\n",
       "      <td>南北</td>\n",
       "      <td>250.000000</td>\n",
       "      <td>1000.0</td>\n",
       "    </tr>\n",
       "    <tr>\n",
       "      <th>2274</th>\n",
       "      <td>顺义</td>\n",
       "      <td>顺义其它</td>\n",
       "      <td>鹭峯国际</td>\n",
       "      <td>叠拼别墅</td>\n",
       "      <td>4</td>\n",
       "      <td>2014</td>\n",
       "      <td>5.0</td>\n",
       "      <td>精装</td>\n",
       "      <td>295.01平米</td>\n",
       "      <td>南北</td>\n",
       "      <td>290.000000</td>\n",
       "      <td>1450.0</td>\n",
       "    </tr>\n",
       "    <tr>\n",
       "      <th>2276</th>\n",
       "      <td>顺义</td>\n",
       "      <td>顺义其它</td>\n",
       "      <td>龙湖好望山</td>\n",
       "      <td>叠拼别墅</td>\n",
       "      <td>3</td>\n",
       "      <td>2014</td>\n",
       "      <td>4.0</td>\n",
       "      <td>毛坯</td>\n",
       "      <td>292.31平米</td>\n",
       "      <td>南北</td>\n",
       "      <td>215.000000</td>\n",
       "      <td>860.0</td>\n",
       "    </tr>\n",
       "    <tr>\n",
       "      <th>2432</th>\n",
       "      <td>顺义</td>\n",
       "      <td>顺义其它</td>\n",
       "      <td>龙湖好望山</td>\n",
       "      <td>叠拼别墅</td>\n",
       "      <td>5</td>\n",
       "      <td>2013</td>\n",
       "      <td>6.0</td>\n",
       "      <td>精装</td>\n",
       "      <td>294.42平米</td>\n",
       "      <td>南北</td>\n",
       "      <td>163.333333</td>\n",
       "      <td>980.0</td>\n",
       "    </tr>\n",
       "    <tr>\n",
       "      <th>4078</th>\n",
       "      <td>大兴</td>\n",
       "      <td>西红门</td>\n",
       "      <td>鸿坤林语墅</td>\n",
       "      <td>叠拼别墅</td>\n",
       "      <td>3</td>\n",
       "      <td>2015</td>\n",
       "      <td>4.0</td>\n",
       "      <td>精装</td>\n",
       "      <td>427.5平米</td>\n",
       "      <td>南北</td>\n",
       "      <td>787.500000</td>\n",
       "      <td>3150.0</td>\n",
       "    </tr>\n",
       "    <tr>\n",
       "      <th>4079</th>\n",
       "      <td>大兴</td>\n",
       "      <td>西红门</td>\n",
       "      <td>鸿坤林语墅</td>\n",
       "      <td>叠拼别墅</td>\n",
       "      <td>4</td>\n",
       "      <td>2015</td>\n",
       "      <td>4.0</td>\n",
       "      <td>精装</td>\n",
       "      <td>361.8平米</td>\n",
       "      <td>南北</td>\n",
       "      <td>595.000000</td>\n",
       "      <td>2380.0</td>\n",
       "    </tr>\n",
       "    <tr>\n",
       "      <th>4761</th>\n",
       "      <td>大兴</td>\n",
       "      <td>西红门</td>\n",
       "      <td>鸿坤林语墅</td>\n",
       "      <td>叠拼别墅</td>\n",
       "      <td>3</td>\n",
       "      <td>2015</td>\n",
       "      <td>5.0</td>\n",
       "      <td>精装</td>\n",
       "      <td>386.83平米</td>\n",
       "      <td>南北</td>\n",
       "      <td>540.000000</td>\n",
       "      <td>2700.0</td>\n",
       "    </tr>\n",
       "    <tr>\n",
       "      <th>7533</th>\n",
       "      <td>昌平</td>\n",
       "      <td>回龙观</td>\n",
       "      <td>龙城花园N区</td>\n",
       "      <td>叠拼别墅</td>\n",
       "      <td>4</td>\n",
       "      <td>1997</td>\n",
       "      <td>2.0</td>\n",
       "      <td>简装</td>\n",
       "      <td>107.93平米</td>\n",
       "      <td>南北</td>\n",
       "      <td>310.000000</td>\n",
       "      <td>620.0</td>\n",
       "    </tr>\n",
       "    <tr>\n",
       "      <th>8765</th>\n",
       "      <td>通州</td>\n",
       "      <td>通州其它</td>\n",
       "      <td>旭辉御锦</td>\n",
       "      <td>叠拼别墅</td>\n",
       "      <td>6</td>\n",
       "      <td>2014</td>\n",
       "      <td>5.0</td>\n",
       "      <td>毛坯</td>\n",
       "      <td>195.32平米</td>\n",
       "      <td>南北</td>\n",
       "      <td>156.000000</td>\n",
       "      <td>780.0</td>\n",
       "    </tr>\n",
       "    <tr>\n",
       "      <th>9020</th>\n",
       "      <td>通州</td>\n",
       "      <td>通州其它</td>\n",
       "      <td>旭辉御锦</td>\n",
       "      <td>叠拼别墅</td>\n",
       "      <td>6</td>\n",
       "      <td>2014</td>\n",
       "      <td>4.0</td>\n",
       "      <td>精装</td>\n",
       "      <td>259.87平米</td>\n",
       "      <td>南北</td>\n",
       "      <td>280.000000</td>\n",
       "      <td>1120.0</td>\n",
       "    </tr>\n",
       "    <tr>\n",
       "      <th>9080</th>\n",
       "      <td>通州</td>\n",
       "      <td>通州其它</td>\n",
       "      <td>旭辉御锦</td>\n",
       "      <td>叠拼别墅</td>\n",
       "      <td>6</td>\n",
       "      <td>2014</td>\n",
       "      <td>4.0</td>\n",
       "      <td>毛坯</td>\n",
       "      <td>259.76平米</td>\n",
       "      <td>南北</td>\n",
       "      <td>262.500000</td>\n",
       "      <td>1050.0</td>\n",
       "    </tr>\n",
       "    <tr>\n",
       "      <th>9203</th>\n",
       "      <td>通州</td>\n",
       "      <td>通州其它</td>\n",
       "      <td>旭辉御锦</td>\n",
       "      <td>叠拼别墅</td>\n",
       "      <td>6</td>\n",
       "      <td>2014</td>\n",
       "      <td>4.0</td>\n",
       "      <td>精装</td>\n",
       "      <td>260.07平米</td>\n",
       "      <td>南北</td>\n",
       "      <td>262.500000</td>\n",
       "      <td>1050.0</td>\n",
       "    </tr>\n",
       "    <tr>\n",
       "      <th>9254</th>\n",
       "      <td>通州</td>\n",
       "      <td>通州其它</td>\n",
       "      <td>旭辉御锦</td>\n",
       "      <td>叠拼别墅</td>\n",
       "      <td>6</td>\n",
       "      <td>2014</td>\n",
       "      <td>4.0</td>\n",
       "      <td>毛坯</td>\n",
       "      <td>264.6平米</td>\n",
       "      <td>南北</td>\n",
       "      <td>275.000000</td>\n",
       "      <td>1100.0</td>\n",
       "    </tr>\n",
       "    <tr>\n",
       "      <th>11531</th>\n",
       "      <td>丰台</td>\n",
       "      <td>丽泽</td>\n",
       "      <td>西宸原著</td>\n",
       "      <td>叠拼别墅</td>\n",
       "      <td>6</td>\n",
       "      <td>2016</td>\n",
       "      <td>4.0</td>\n",
       "      <td>毛坯</td>\n",
       "      <td>335.51平米</td>\n",
       "      <td>南北</td>\n",
       "      <td>1000.000000</td>\n",
       "      <td>4000.0</td>\n",
       "    </tr>\n",
       "    <tr>\n",
       "      <th>14298</th>\n",
       "      <td>海淀</td>\n",
       "      <td>西山</td>\n",
       "      <td>中间建筑一区</td>\n",
       "      <td>叠拼别墅</td>\n",
       "      <td>3</td>\n",
       "      <td>2007</td>\n",
       "      <td>8.0</td>\n",
       "      <td>精装</td>\n",
       "      <td>266.61平米</td>\n",
       "      <td>南北</td>\n",
       "      <td>168.750000</td>\n",
       "      <td>1350.0</td>\n",
       "    </tr>\n",
       "    <tr>\n",
       "      <th>15334</th>\n",
       "      <td>海淀</td>\n",
       "      <td>西山</td>\n",
       "      <td>西山美墅馆F区</td>\n",
       "      <td>叠拼别墅</td>\n",
       "      <td>4</td>\n",
       "      <td>2004</td>\n",
       "      <td>4.0</td>\n",
       "      <td>简装</td>\n",
       "      <td>203.73平米</td>\n",
       "      <td>南北</td>\n",
       "      <td>550.000000</td>\n",
       "      <td>2200.0</td>\n",
       "    </tr>\n",
       "    <tr>\n",
       "      <th>17311</th>\n",
       "      <td>朝阳</td>\n",
       "      <td>大望路</td>\n",
       "      <td>首府官邸</td>\n",
       "      <td>叠拼别墅</td>\n",
       "      <td>5</td>\n",
       "      <td>2007</td>\n",
       "      <td>5.0</td>\n",
       "      <td>精装</td>\n",
       "      <td>523.4平米</td>\n",
       "      <td>南北</td>\n",
       "      <td>900.000000</td>\n",
       "      <td>4500.0</td>\n",
       "    </tr>\n",
       "  </tbody>\n",
       "</table>\n",
       "</div>"
      ],
      "text/plain": [
       "      Region District   Garden Layout  Floor  Year  Size Elevator Direction  \\\n",
       "1168      房山       长阳     世茂维拉   叠拼别墅      5  2015   5.0       毛坯  240.97平米   \n",
       "1458      房山       长阳     世茂维拉   叠拼别墅      5  2015   5.0       毛坯  242.78平米   \n",
       "1797      房山       长阳     世茂维拉   叠拼别墅      5  2015   5.0       精装  242.96平米   \n",
       "2268      顺义     顺义其它    龙湖好望山   叠拼别墅      4  2014   4.0       精装  295.88平米   \n",
       "2274      顺义     顺义其它     鹭峯国际   叠拼别墅      4  2014   5.0       精装  295.01平米   \n",
       "2276      顺义     顺义其它    龙湖好望山   叠拼别墅      3  2014   4.0       毛坯  292.31平米   \n",
       "2432      顺义     顺义其它    龙湖好望山   叠拼别墅      5  2013   6.0       精装  294.42平米   \n",
       "4078      大兴      西红门    鸿坤林语墅   叠拼别墅      3  2015   4.0       精装   427.5平米   \n",
       "4079      大兴      西红门    鸿坤林语墅   叠拼别墅      4  2015   4.0       精装   361.8平米   \n",
       "4761      大兴      西红门    鸿坤林语墅   叠拼别墅      3  2015   5.0       精装  386.83平米   \n",
       "7533      昌平      回龙观   龙城花园N区   叠拼别墅      4  1997   2.0       简装  107.93平米   \n",
       "8765      通州     通州其它     旭辉御锦   叠拼别墅      6  2014   5.0       毛坯  195.32平米   \n",
       "9020      通州     通州其它     旭辉御锦   叠拼别墅      6  2014   4.0       精装  259.87平米   \n",
       "9080      通州     通州其它     旭辉御锦   叠拼别墅      6  2014   4.0       毛坯  259.76平米   \n",
       "9203      通州     通州其它     旭辉御锦   叠拼别墅      6  2014   4.0       精装  260.07平米   \n",
       "9254      通州     通州其它     旭辉御锦   叠拼别墅      6  2014   4.0       毛坯   264.6平米   \n",
       "11531     丰台       丽泽     西宸原著   叠拼别墅      6  2016   4.0       毛坯  335.51平米   \n",
       "14298     海淀       西山   中间建筑一区   叠拼别墅      3  2007   8.0       精装  266.61平米   \n",
       "15334     海淀       西山  西山美墅馆F区   叠拼别墅      4  2004   4.0       简装  203.73平米   \n",
       "17311     朝阳      大望路     首府官邸   叠拼别墅      5  2007   5.0       精装   523.4平米   \n",
       "\n",
       "      Renovation     PerPrice   Price  \n",
       "1168          南北   216.000000  1080.0  \n",
       "1458          南北   220.000000  1100.0  \n",
       "1797          南北   196.000000   980.0  \n",
       "2268          南北   250.000000  1000.0  \n",
       "2274          南北   290.000000  1450.0  \n",
       "2276          南北   215.000000   860.0  \n",
       "2432          南北   163.333333   980.0  \n",
       "4078          南北   787.500000  3150.0  \n",
       "4079          南北   595.000000  2380.0  \n",
       "4761          南北   540.000000  2700.0  \n",
       "7533          南北   310.000000   620.0  \n",
       "8765          南北   156.000000   780.0  \n",
       "9020          南北   280.000000  1120.0  \n",
       "9080          南北   262.500000  1050.0  \n",
       "9203          南北   262.500000  1050.0  \n",
       "9254          南北   275.000000  1100.0  \n",
       "11531         南北  1000.000000  4000.0  \n",
       "14298         南北   168.750000  1350.0  \n",
       "15334         南北   550.000000  2200.0  \n",
       "17311         南北   900.000000  4500.0  "
      ]
     },
     "execution_count": 41,
     "metadata": {},
     "output_type": "execute_result"
    }
   ],
   "source": [
    "# 查出异常值\n",
    "df.loc[df['Size'] < 10]"
   ]
  },
  {
   "cell_type": "code",
   "execution_count": 42,
   "metadata": {
    "ExecuteTime": {
     "end_time": "2019-03-02T16:09:07.103135Z",
     "start_time": "2019-03-02T16:09:07.071225Z"
    }
   },
   "outputs": [
    {
     "data": {
      "text/html": [
       "<div>\n",
       "<style scoped>\n",
       "    .dataframe tbody tr th:only-of-type {\n",
       "        vertical-align: middle;\n",
       "    }\n",
       "\n",
       "    .dataframe tbody tr th {\n",
       "        vertical-align: top;\n",
       "    }\n",
       "\n",
       "    .dataframe thead th {\n",
       "        text-align: right;\n",
       "    }\n",
       "</style>\n",
       "<table border=\"1\" class=\"dataframe\">\n",
       "  <thead>\n",
       "    <tr style=\"text-align: right;\">\n",
       "      <th></th>\n",
       "      <th>Region</th>\n",
       "      <th>District</th>\n",
       "      <th>Garden</th>\n",
       "      <th>Layout</th>\n",
       "      <th>Floor</th>\n",
       "      <th>Year</th>\n",
       "      <th>Size</th>\n",
       "      <th>Elevator</th>\n",
       "      <th>Direction</th>\n",
       "      <th>Renovation</th>\n",
       "      <th>PerPrice</th>\n",
       "      <th>Price</th>\n",
       "    </tr>\n",
       "  </thead>\n",
       "  <tbody>\n",
       "    <tr>\n",
       "      <th>8754</th>\n",
       "      <td>通州</td>\n",
       "      <td>通州其它</td>\n",
       "      <td>新华联科技大厦</td>\n",
       "      <td>1房间0卫</td>\n",
       "      <td>8</td>\n",
       "      <td>2009</td>\n",
       "      <td>1019.0</td>\n",
       "      <td>有电梯</td>\n",
       "      <td>南</td>\n",
       "      <td>简装</td>\n",
       "      <td>1.668302</td>\n",
       "      <td>1700.0</td>\n",
       "    </tr>\n",
       "  </tbody>\n",
       "</table>\n",
       "</div>"
      ],
      "text/plain": [
       "     Region District   Garden Layout  Floor  Year    Size Elevator Direction  \\\n",
       "8754     通州     通州其它  新华联科技大厦  1房间0卫      8  2009  1019.0      有电梯         南   \n",
       "\n",
       "     Renovation  PerPrice   Price  \n",
       "8754         简装  1.668302  1700.0  "
      ]
     },
     "execution_count": 42,
     "metadata": {},
     "output_type": "execute_result"
    }
   ],
   "source": [
    "# 查出面积大于1000，但是房价很低的数据\n",
    "df.loc[df['Size'] > 1000]"
   ]
  },
  {
   "cell_type": "code",
   "execution_count": 45,
   "metadata": {
    "ExecuteTime": {
     "end_time": "2019-03-02T16:13:02.837632Z",
     "start_time": "2019-03-02T16:13:02.822337Z"
    }
   },
   "outputs": [],
   "source": [
    "# 删除异常值\n",
    "df = df[(df['Layout'] != '叠拼别墅') & (df['Size'] < 1000)]"
   ]
  },
  {
   "cell_type": "code",
   "execution_count": 46,
   "metadata": {
    "ExecuteTime": {
     "end_time": "2019-03-02T16:13:06.296976Z",
     "start_time": "2019-03-02T16:13:03.625136Z"
    }
   },
   "outputs": [
    {
     "data": {
      "text/plain": [
       "<matplotlib.axes._subplots.AxesSubplot at 0x7fc3b76ce198>"
      ]
     },
     "execution_count": 46,
     "metadata": {},
     "output_type": "execute_result"
    },
    {
     "data": {
      "image/png": "[encoded data removed]",
      "text/plain": [
       "<Figure size 1080x360 with 2 Axes>"
      ]
     },
     "metadata": {
      "needs_background": "light"
     },
     "output_type": "display_data"
    }
   ],
   "source": [
    "f, [ax1, ax2] = plt.subplots(1, 2, figsize=(15, 5))\n",
    "\n",
    "# 建房时间分布请款\n",
    "sns.distplot(df['Size'], bins=20, ax=ax1, color='r')\n",
    "# distplot: 带分布形态的直方图, bins: 直方图数量\n",
    "sns.kdeplot(df['Size'], shade=True, ax=ax1)\n",
    "# kdeplot: 核密度估计(kernel density estimation)\n",
    "\n",
    "# 建房时间和出售价格的关系\n",
    "sns.regplot(x='Size', y='Price', data=df, ax=ax2)  # 线性回归关系"
   ]
  },
  {
   "cell_type": "markdown",
   "metadata": {
    "ExecuteTime": {
     "end_time": "2019-03-02T16:19:14.584811Z",
     "start_time": "2019-03-02T16:19:14.581701Z"
    }
   },
   "source": [
    "## Layout 特征分析"
   ]
  },
  {
   "cell_type": "code",
   "execution_count": 51,
   "metadata": {
    "ExecuteTime": {
     "end_time": "2019-03-02T16:23:15.511528Z",
     "start_time": "2019-03-02T16:23:13.909835Z"
    }
   },
   "outputs": [
    {
     "data": {
      "text/plain": [
       "Text(0, 0.5, 'Layout')"
      ]
     },
     "execution_count": 51,
     "metadata": {},
     "output_type": "execute_result"
    },
    {
     "data": {
      "image/png": "[encoded data removed]",
      "text/plain": [
       "<Figure size 1440x1440 with 1 Axes>"
      ]
     },
     "metadata": {
      "needs_background": "light"
     },
     "output_type": "display_data"
    }
   ],
   "source": [
    "# 使用countplot统计并显示房屋类型数量\n",
    "f, ax1 = plt.subplots(figsize=(20, 20))\n",
    "sns.countplot(y='Layout', data=df, ax=ax1)\n",
    "ax1.set_title('Layout', fontsize=15)\n",
    "ax1.set_xlabel('Number')\n",
    "ax1.set_ylabel('Layout')"
   ]
  },
  {
   "cell_type": "markdown",
   "metadata": {},
   "source": [
    "## Renovation 特征分析"
   ]
  },
  {
   "cell_type": "code",
   "execution_count": 52,
   "metadata": {
    "ExecuteTime": {
     "end_time": "2019-03-02T16:27:43.928041Z",
     "start_time": "2019-03-02T16:27:43.454796Z"
    }
   },
   "outputs": [
    {
     "data": {
      "text/plain": [
       "<matplotlib.axes._subplots.AxesSubplot at 0x7fc3b6ec4438>"
      ]
     },
     "execution_count": 52,
     "metadata": {},
     "output_type": "execute_result"
    },
    {
     "data": {
      "image/png": "[encoded data removed]",
      "text/plain": [
       "<Figure size 1440x1440 with 1 Axes>"
      ]
     },
     "metadata": {
      "needs_background": "light"
     },
     "output_type": "display_data"
    }
   ],
   "source": [
    "f, ax1 = plt.subplots(figsize=(20, 20))\n",
    "sns.countplot(y='Renovation', data=df, ax=ax1)"
   ]
  },
  {
   "cell_type": "code",
   "execution_count": 54,
   "metadata": {
    "ExecuteTime": {
     "end_time": "2019-03-02T16:29:56.633262Z",
     "start_time": "2019-03-02T16:29:56.624202Z"
    }
   },
   "outputs": [
    {
     "data": {
      "text/plain": [
       "精装    11345\n",
       "简装     8496\n",
       "其他     3239\n",
       "毛坯      576\n",
       "Name: Renovation, dtype: int64"
      ]
     },
     "execution_count": 54,
     "metadata": {},
     "output_type": "execute_result"
    }
   ],
   "source": [
    "df['Renovation'].value_counts()"
   ]
  },
  {
   "cell_type": "markdown",
   "metadata": {
    "ExecuteTime": {
     "end_time": "2019-03-02T16:32:42.764805Z",
     "start_time": "2019-03-02T16:32:42.747510Z"
    }
   },
   "source": [
    "```df['Renovation'] = df.loc[(df['Renovation'] != '南北'), 'Renovation']```\n",
    "该语句指：过滤出df['Renovation']不等于'南北'的数据，并单独列出'Renovation'这一列。最后赋值给df['Renovation']进行更新"
   ]
  },
  {
   "cell_type": "code",
   "execution_count": 65,
   "metadata": {
    "ExecuteTime": {
     "end_time": "2019-03-02T16:39:36.422127Z",
     "start_time": "2019-03-02T16:39:35.144818Z"
    }
   },
   "outputs": [
    {
     "data": {
      "text/plain": [
       "<matplotlib.axes._subplots.AxesSubplot at 0x7fc3b38a9518>"
      ]
     },
     "execution_count": 65,
     "metadata": {},
     "output_type": "execute_result"
    },
    {
     "data": {
      "image/png": "[encoded data removed]",
      "text/plain": [
       "<Figure size 360x1440 with 3 Axes>"
      ]
     },
     "metadata": {
      "needs_background": "light"
     },
     "output_type": "display_data"
    }
   ],
   "source": [
    "f, [ax1, ax2, ax3] = plt.subplots(3, 1, figsize=(5, 20))\n",
    "\n",
    "sns.countplot(df['Renovation'], ax=ax1)\n",
    "sns.barplot(x='Renovation', y='Price', data=df, ax=ax2)  # 直方图\n",
    "sns.boxplot(x='Renovation', y='Price', data=df, ax=ax3)  # 箱线图"
   ]
  },
  {
   "cell_type": "markdown",
   "metadata": {
    "ExecuteTime": {
     "end_time": "2019-03-04T08:26:36.729238Z",
     "start_time": "2019-03-04T08:26:36.691322Z"
    }
   },
   "source": [
    "## Elevator特征分析"
   ]
  },
  {
   "cell_type": "code",
   "execution_count": 28,
   "metadata": {
    "ExecuteTime": {
     "end_time": "2019-03-04T08:31:59.113442Z",
     "start_time": "2019-03-04T08:31:59.106455Z"
    }
   },
   "outputs": [
    {
     "name": "stdout",
     "output_type": "stream",
     "text": [
      "Elevator缺失的数值为8237\n"
     ]
    }
   ],
   "source": [
    "# df.loc[(df['Elevator'].isnull())]\n",
    "misn=len(df.loc[(df['Elevator'].isnull()),'Elevator'])\n",
    "print('Elevator缺失的数值为%s'%misn)"
   ]
  },
  {
   "cell_type": "markdown",
   "metadata": {},
   "source": [
    "**缺失值的处理方法：利用平均值或者中位数填补，或者根据其他特征值进行建模预测**"
   ]
  },
  {
   "cell_type": "code",
   "execution_count": null,
   "metadata": {},
   "outputs": [],
   "source": [
    "# 对于电梯有无，Elevator不是数值型，因此无法使用平均数或者中位数进行填补"
   ]
  }
 ],
 "metadata": {
  "kernelspec": {
   "display_name": "Python 3",
   "language": "python",
   "name": "python3"
  },
  "language_info": {
   "codemirror_mode": {
    "name": "ipython",
    "version": 3
   },
   "file_extension": ".py",
   "mimetype": "text/x-python",
   "name": "python",
   "nbconvert_exporter": "python",
   "pygments_lexer": "ipython3",
   "version": "3.6.8"
  },
  "toc": {
   "base_numbering": 1,
   "nav_menu": {},
   "number_sections": true,
   "sideBar": true,
   "skip_h1_title": false,
   "title_cell": "Table of Contents",
   "title_sidebar": "Contents",
   "toc_cell": false,
   "toc_position": {},
   "toc_section_display": true,
   "toc_window_display": false
  },
  "varInspector": {
   "cols": {
    "lenName": 16,
    "lenType": 16,
    "lenVar": 40
   },
   "kernels_config": {
    "python": {
     "delete_cmd_postfix": "",
     "delete_cmd_prefix": "del ",
     "library": "var_list.py",
     "varRefreshCmd": "print(var_dic_list())"
    },
    "r": {
     "delete_cmd_postfix": ") ",
     "delete_cmd_prefix": "rm(",
     "library": "var_list.r",
     "varRefreshCmd": "cat(var_dic_list()) "
    }
   },
   "types_to_exclude": [
    "module",
    "function",
    "builtin_function_or_method",
    "instance",
    "_Feature"
   ],
   "window_display": false
  }
 },
 "nbformat": 4,
 "nbformat_minor": 2
}
