{
 "cells": [
  {
   "cell_type": "code",
   "execution_count": 5,
   "metadata": {
    "ExecuteTime": {
     "end_time": "2019-02-24T14:51:27.293448Z",
     "start_time": "2019-02-24T14:51:27.264870Z"
    }
   },
   "outputs": [],
   "source": [
    "import pandas as pd\n",
    "import numpy as np\n",
    "import seaborn as sns\n",
    "import matplotlib as mpl\n",
    "\n",
    "import matplotlib.pyplot as plt\n",
    "from IPython.display import display\n",
    "plt.style.use(\"fivethirtyeight\")\n",
    "sns.set_style({'font.sans-serif':['simhei','Arial']})\n",
    "%matplotlib inline"
   ]
  },
  {
   "cell_type": "code",
   "execution_count": 6,
   "metadata": {
    "ExecuteTime": {
     "end_time": "2019-02-24T14:59:17.210145Z",
     "start_time": "2019-02-24T14:59:16.960717Z"
    }
   },
   "outputs": [],
   "source": [
    "lianjia_df=pd.read_csv('./Data/lianjia.csv')"
   ]
  },
  {
   "cell_type": "code",
   "execution_count": 8,
   "metadata": {
    "ExecuteTime": {
     "end_time": "2019-02-24T15:00:10.402069Z",
     "start_time": "2019-02-24T15:00:10.378849Z"
    }
   },
   "outputs": [
    {
     "data": {
      "text/html": [
       "<div>\n",
       "<style scoped>\n",
       "    .dataframe tbody tr th:only-of-type {\n",
       "        vertical-align: middle;\n",
       "    }\n",
       "\n",
       "    .dataframe tbody tr th {\n",
       "        vertical-align: top;\n",
       "    }\n",
       "\n",
       "    .dataframe thead th {\n",
       "        text-align: right;\n",
       "    }\n",
       "</style>\n",
       "<table border=\"1\" class=\"dataframe\">\n",
       "  <thead>\n",
       "    <tr style=\"text-align: right;\">\n",
       "      <th></th>\n",
       "      <th>Direction</th>\n",
       "      <th>District</th>\n",
       "      <th>Elevator</th>\n",
       "      <th>Floor</th>\n",
       "      <th>Garden</th>\n",
       "      <th>Id</th>\n",
       "      <th>Layout</th>\n",
       "      <th>Price</th>\n",
       "      <th>Region</th>\n",
       "      <th>Renovation</th>\n",
       "      <th>Size</th>\n",
       "      <th>Year</th>\n",
       "    </tr>\n",
       "  </thead>\n",
       "  <tbody>\n",
       "    <tr>\n",
       "      <th>0</th>\n",
       "      <td>东西</td>\n",
       "      <td>灯市口</td>\n",
       "      <td>NaN</td>\n",
       "      <td>6</td>\n",
       "      <td>锡拉胡同21号院</td>\n",
       "      <td>101102647043</td>\n",
       "      <td>3室1厅</td>\n",
       "      <td>780.0</td>\n",
       "      <td>东城</td>\n",
       "      <td>精装</td>\n",
       "      <td>75.0</td>\n",
       "      <td>1988</td>\n",
       "    </tr>\n",
       "    <tr>\n",
       "      <th>1</th>\n",
       "      <td>南北</td>\n",
       "      <td>东单</td>\n",
       "      <td>无电梯</td>\n",
       "      <td>6</td>\n",
       "      <td>东华门大街</td>\n",
       "      <td>101102650978</td>\n",
       "      <td>2室1厅</td>\n",
       "      <td>705.0</td>\n",
       "      <td>东城</td>\n",
       "      <td>精装</td>\n",
       "      <td>60.0</td>\n",
       "      <td>1988</td>\n",
       "    </tr>\n",
       "    <tr>\n",
       "      <th>2</th>\n",
       "      <td>南西</td>\n",
       "      <td>崇文门</td>\n",
       "      <td>有电梯</td>\n",
       "      <td>16</td>\n",
       "      <td>新世界中心</td>\n",
       "      <td>101102672743</td>\n",
       "      <td>3室1厅</td>\n",
       "      <td>1400.0</td>\n",
       "      <td>东城</td>\n",
       "      <td>其他</td>\n",
       "      <td>210.0</td>\n",
       "      <td>1996</td>\n",
       "    </tr>\n",
       "    <tr>\n",
       "      <th>3</th>\n",
       "      <td>南</td>\n",
       "      <td>崇文门</td>\n",
       "      <td>NaN</td>\n",
       "      <td>7</td>\n",
       "      <td>兴隆都市馨园</td>\n",
       "      <td>101102577410</td>\n",
       "      <td>1室1厅</td>\n",
       "      <td>420.0</td>\n",
       "      <td>东城</td>\n",
       "      <td>精装</td>\n",
       "      <td>39.0</td>\n",
       "      <td>2004</td>\n",
       "    </tr>\n",
       "    <tr>\n",
       "      <th>4</th>\n",
       "      <td>南</td>\n",
       "      <td>陶然亭</td>\n",
       "      <td>有电梯</td>\n",
       "      <td>19</td>\n",
       "      <td>中海紫御公馆</td>\n",
       "      <td>101102574696</td>\n",
       "      <td>2室2厅</td>\n",
       "      <td>998.0</td>\n",
       "      <td>东城</td>\n",
       "      <td>精装</td>\n",
       "      <td>90.0</td>\n",
       "      <td>2010</td>\n",
       "    </tr>\n",
       "  </tbody>\n",
       "</table>\n",
       "</div>"
      ],
      "text/plain": [
       "  Direction District Elevator  Floor    Garden            Id Layout   Price  \\\n",
       "0        东西      灯市口      NaN      6  锡拉胡同21号院  101102647043   3室1厅   780.0   \n",
       "1        南北       东单      无电梯      6     东华门大街  101102650978   2室1厅   705.0   \n",
       "2        南西      崇文门      有电梯     16     新世界中心  101102672743   3室1厅  1400.0   \n",
       "3         南      崇文门      NaN      7    兴隆都市馨园  101102577410   1室1厅   420.0   \n",
       "4         南      陶然亭      有电梯     19    中海紫御公馆  101102574696   2室2厅   998.0   \n",
       "\n",
       "  Region Renovation   Size  Year  \n",
       "0     东城         精装   75.0  1988  \n",
       "1     东城         精装   60.0  1988  \n",
       "2     东城         其他  210.0  1996  \n",
       "3     东城         精装   39.0  2004  \n",
       "4     东城         精装   90.0  2010  "
      ]
     },
     "metadata": {},
     "output_type": "display_data"
    }
   ],
   "source": [
    "display(lianjia_df.head(n=5))"
   ]
  },
  {
   "cell_type": "code",
   "execution_count": 10,
   "metadata": {
    "ExecuteTime": {
     "end_time": "2019-02-24T15:01:25.442123Z",
     "start_time": "2019-02-24T15:01:25.415939Z"
    }
   },
   "outputs": [
    {
     "name": "stdout",
     "output_type": "stream",
     "text": [
      "<class 'pandas.core.frame.DataFrame'>\n",
      "RangeIndex: 23677 entries, 0 to 23676\n",
      "Data columns (total 12 columns):\n",
      "Direction     23677 non-null object\n",
      "District      23677 non-null object\n",
      "Elevator      15440 non-null object\n",
      "Floor         23677 non-null int64\n",
      "Garden        23677 non-null object\n",
      "Id            23677 non-null int64\n",
      "Layout        23677 non-null object\n",
      "Price         23677 non-null float64\n",
      "Region        23677 non-null object\n",
      "Renovation    23677 non-null object\n",
      "Size          23677 non-null float64\n",
      "Year          23677 non-null int64\n",
      "dtypes: float64(2), int64(3), object(7)\n",
      "memory usage: 2.2+ MB\n"
     ]
    }
   ],
   "source": [
    "lianjia_df.info()"
   ]
  },
  {
   "cell_type": "code",
   "execution_count": 12,
   "metadata": {
    "ExecuteTime": {
     "end_time": "2019-02-24T15:02:27.155438Z",
     "start_time": "2019-02-24T15:02:27.043760Z"
    }
   },
   "outputs": [
    {
     "data": {
      "text/html": [
       "<div>\n",
       "<style scoped>\n",
       "    .dataframe tbody tr th:only-of-type {\n",
       "        vertical-align: middle;\n",
       "    }\n",
       "\n",
       "    .dataframe tbody tr th {\n",
       "        vertical-align: top;\n",
       "    }\n",
       "\n",
       "    .dataframe thead th {\n",
       "        text-align: right;\n",
       "    }\n",
       "</style>\n",
       "<table border=\"1\" class=\"dataframe\">\n",
       "  <thead>\n",
       "    <tr style=\"text-align: right;\">\n",
       "      <th></th>\n",
       "      <th>Floor</th>\n",
       "      <th>Id</th>\n",
       "      <th>Price</th>\n",
       "      <th>Size</th>\n",
       "      <th>Year</th>\n",
       "    </tr>\n",
       "  </thead>\n",
       "  <tbody>\n",
       "    <tr>\n",
       "      <th>count</th>\n",
       "      <td>23677.000000</td>\n",
       "      <td>2.367700e+04</td>\n",
       "      <td>23677.000000</td>\n",
       "      <td>23677.000000</td>\n",
       "      <td>23677.000000</td>\n",
       "    </tr>\n",
       "    <tr>\n",
       "      <th>mean</th>\n",
       "      <td>12.765088</td>\n",
       "      <td>1.011024e+11</td>\n",
       "      <td>610.668319</td>\n",
       "      <td>99.149301</td>\n",
       "      <td>2001.326519</td>\n",
       "    </tr>\n",
       "    <tr>\n",
       "      <th>std</th>\n",
       "      <td>7.643932</td>\n",
       "      <td>5.652477e+05</td>\n",
       "      <td>411.452107</td>\n",
       "      <td>50.988838</td>\n",
       "      <td>9.001996</td>\n",
       "    </tr>\n",
       "    <tr>\n",
       "      <th>min</th>\n",
       "      <td>1.000000</td>\n",
       "      <td>1.010886e+11</td>\n",
       "      <td>60.000000</td>\n",
       "      <td>2.000000</td>\n",
       "      <td>1950.000000</td>\n",
       "    </tr>\n",
       "    <tr>\n",
       "      <th>25%</th>\n",
       "      <td>6.000000</td>\n",
       "      <td>1.011022e+11</td>\n",
       "      <td>365.000000</td>\n",
       "      <td>66.000000</td>\n",
       "      <td>1997.000000</td>\n",
       "    </tr>\n",
       "    <tr>\n",
       "      <th>50%</th>\n",
       "      <td>11.000000</td>\n",
       "      <td>1.011025e+11</td>\n",
       "      <td>499.000000</td>\n",
       "      <td>88.000000</td>\n",
       "      <td>2003.000000</td>\n",
       "    </tr>\n",
       "    <tr>\n",
       "      <th>75%</th>\n",
       "      <td>18.000000</td>\n",
       "      <td>1.011027e+11</td>\n",
       "      <td>717.000000</td>\n",
       "      <td>118.000000</td>\n",
       "      <td>2007.000000</td>\n",
       "    </tr>\n",
       "    <tr>\n",
       "      <th>max</th>\n",
       "      <td>57.000000</td>\n",
       "      <td>1.011028e+11</td>\n",
       "      <td>6000.000000</td>\n",
       "      <td>1019.000000</td>\n",
       "      <td>2017.000000</td>\n",
       "    </tr>\n",
       "  </tbody>\n",
       "</table>\n",
       "</div>"
      ],
      "text/plain": [
       "              Floor            Id         Price          Size          Year\n",
       "count  23677.000000  2.367700e+04  23677.000000  23677.000000  23677.000000\n",
       "mean      12.765088  1.011024e+11    610.668319     99.149301   2001.326519\n",
       "std        7.643932  5.652477e+05    411.452107     50.988838      9.001996\n",
       "min        1.000000  1.010886e+11     60.000000      2.000000   1950.000000\n",
       "25%        6.000000  1.011022e+11    365.000000     66.000000   1997.000000\n",
       "50%       11.000000  1.011025e+11    499.000000     88.000000   2003.000000\n",
       "75%       18.000000  1.011027e+11    717.000000    118.000000   2007.000000\n",
       "max       57.000000  1.011028e+11   6000.000000   1019.000000   2017.000000"
      ]
     },
     "execution_count": 12,
     "metadata": {},
     "output_type": "execute_result"
    }
   ],
   "source": [
    "lianjia_df.describe()"
   ]
  },
  {
   "cell_type": "code",
   "execution_count": 15,
   "metadata": {
    "ExecuteTime": {
     "end_time": "2019-02-24T15:13:26.805595Z",
     "start_time": "2019-02-24T15:13:26.762489Z"
    }
   },
   "outputs": [
    {
     "data": {
      "text/html": [
       "<div>\n",
       "<style scoped>\n",
       "    .dataframe tbody tr th:only-of-type {\n",
       "        vertical-align: middle;\n",
       "    }\n",
       "\n",
       "    .dataframe tbody tr th {\n",
       "        vertical-align: top;\n",
       "    }\n",
       "\n",
       "    .dataframe thead th {\n",
       "        text-align: right;\n",
       "    }\n",
       "</style>\n",
       "<table border=\"1\" class=\"dataframe\">\n",
       "  <thead>\n",
       "    <tr style=\"text-align: right;\">\n",
       "      <th></th>\n",
       "      <th>Region</th>\n",
       "      <th>District</th>\n",
       "      <th>Garden</th>\n",
       "      <th>Layout</th>\n",
       "      <th>Floor</th>\n",
       "      <th>Year</th>\n",
       "      <th>Size</th>\n",
       "      <th>Elevator</th>\n",
       "      <th>Direction</th>\n",
       "      <th>Renovation</th>\n",
       "      <th>PrePrice</th>\n",
       "      <th>Price</th>\n",
       "    </tr>\n",
       "  </thead>\n",
       "  <tbody>\n",
       "    <tr>\n",
       "      <th>0</th>\n",
       "      <td>东城</td>\n",
       "      <td>灯市口</td>\n",
       "      <td>锡拉胡同21号院</td>\n",
       "      <td>3室1厅</td>\n",
       "      <td>6</td>\n",
       "      <td>1988</td>\n",
       "      <td>75.0</td>\n",
       "      <td>NaN</td>\n",
       "      <td>东西</td>\n",
       "      <td>精装</td>\n",
       "      <td>NaN</td>\n",
       "      <td>780.0</td>\n",
       "    </tr>\n",
       "    <tr>\n",
       "      <th>1</th>\n",
       "      <td>东城</td>\n",
       "      <td>东单</td>\n",
       "      <td>东华门大街</td>\n",
       "      <td>2室1厅</td>\n",
       "      <td>6</td>\n",
       "      <td>1988</td>\n",
       "      <td>60.0</td>\n",
       "      <td>无电梯</td>\n",
       "      <td>南北</td>\n",
       "      <td>精装</td>\n",
       "      <td>NaN</td>\n",
       "      <td>705.0</td>\n",
       "    </tr>\n",
       "  </tbody>\n",
       "</table>\n",
       "</div>"
      ],
      "text/plain": [
       "  Region District    Garden Layout  Floor  Year  Size Elevator Direction  \\\n",
       "0     东城      灯市口  锡拉胡同21号院   3室1厅      6  1988  75.0      NaN        东西   \n",
       "1     东城       东单     东华门大街   2室1厅      6  1988  60.0      无电梯        南北   \n",
       "\n",
       "  Renovation  PrePrice  Price  \n",
       "0         精装       NaN  780.0  \n",
       "1         精装       NaN  705.0  "
      ]
     },
     "metadata": {},
     "output_type": "display_data"
    }
   ],
   "source": [
    "df=lianjia_df.copy()\n",
    "\n",
    "# 增加每平方米价格\n",
    "df['PerPrice']=lianjia_df['Price']/lianjia_df['Size']\n",
    "\n",
    "# 重新调整列位置\n",
    "columns=['Region','District','Garden','Layout','Floor','Year','Size','Elevator','Direction','Renovation','PrePrice','Price']\n",
    "df=pd.DataFrame(df,columns=columns)\n",
    "display(df.head(n=2))"
   ]
  },
  {
   "cell_type": "code",
   "execution_count": null,
   "metadata": {},
   "outputs": [],
   "source": []
  }
 ],
 "metadata": {
  "kernelspec": {
   "display_name": "Python 3",
   "language": "python",
   "name": "python3"
  },
  "toc": {
   "base_numbering": 1,
   "nav_menu": {},
   "number_sections": true,
   "sideBar": true,
   "skip_h1_title": false,
   "title_cell": "Table of Contents",
   "title_sidebar": "Contents",
   "toc_cell": false,
   "toc_position": {},
   "toc_section_display": true,
   "toc_window_display": false
  },
  "varInspector": {
   "cols": {
    "lenName": 16,
    "lenType": 16,
    "lenVar": 40
   },
   "kernels_config": {
    "python": {
     "delete_cmd_postfix": "",
     "delete_cmd_prefix": "del ",
     "library": "var_list.py",
     "varRefreshCmd": "print(var_dic_list())"
    },
    "r": {
     "delete_cmd_postfix": ") ",
     "delete_cmd_prefix": "rm(",
     "library": "var_list.r",
     "varRefreshCmd": "cat(var_dic_list()) "
    }
   },
   "types_to_exclude": [
    "module",
    "function",
    "builtin_function_or_method",
    "instance",
    "_Feature"
   ],
   "window_display": false
  }
 },
 "nbformat": 4,
 "nbformat_minor": 2
}
