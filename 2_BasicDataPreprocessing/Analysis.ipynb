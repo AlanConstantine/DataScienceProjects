{
 "cells": [
  {
   "cell_type": "code",
   "execution_count": 51,
   "metadata": {
    "ExecuteTime": {
     "end_time": "2019-03-11T16:14:56.414777Z",
     "start_time": "2019-03-11T16:14:56.409593Z"
    }
   },
   "outputs": [],
   "source": [
    "import numpy as np\n",
    "import pandas as pd\n",
    "import matplotlib.pyplot as plt\n",
    "import warnings\n",
    "warnings.filterwarnings('ignore')"
   ]
  },
  {
   "cell_type": "code",
   "execution_count": 52,
   "metadata": {
    "ExecuteTime": {
     "end_time": "2019-03-11T16:14:56.513984Z",
     "start_time": "2019-03-11T16:14:56.417073Z"
    }
   },
   "outputs": [
    {
     "data": {
      "text/html": [
       "<div>\n",
       "<style scoped>\n",
       "    .dataframe tbody tr th:only-of-type {\n",
       "        vertical-align: middle;\n",
       "    }\n",
       "\n",
       "    .dataframe tbody tr th {\n",
       "        vertical-align: top;\n",
       "    }\n",
       "\n",
       "    .dataframe thead th {\n",
       "        text-align: right;\n",
       "    }\n",
       "</style>\n",
       "<table border=\"1\" class=\"dataframe\">\n",
       "  <thead>\n",
       "    <tr style=\"text-align: right;\">\n",
       "      <th></th>\n",
       "      <th>Animal</th>\n",
       "      <th>Age</th>\n",
       "      <th>Worth</th>\n",
       "      <th>Friendly</th>\n",
       "    </tr>\n",
       "  </thead>\n",
       "  <tbody>\n",
       "    <tr>\n",
       "      <th>0</th>\n",
       "      <td>Cat</td>\n",
       "      <td>4.0</td>\n",
       "      <td>72000.0</td>\n",
       "      <td>No</td>\n",
       "    </tr>\n",
       "    <tr>\n",
       "      <th>1</th>\n",
       "      <td>Dog</td>\n",
       "      <td>17.0</td>\n",
       "      <td>48000.0</td>\n",
       "      <td>Yes</td>\n",
       "    </tr>\n",
       "    <tr>\n",
       "      <th>2</th>\n",
       "      <td>Moose</td>\n",
       "      <td>6.0</td>\n",
       "      <td>54000.0</td>\n",
       "      <td>No</td>\n",
       "    </tr>\n",
       "    <tr>\n",
       "      <th>3</th>\n",
       "      <td>Dog</td>\n",
       "      <td>8.0</td>\n",
       "      <td>61000.0</td>\n",
       "      <td>No</td>\n",
       "    </tr>\n",
       "    <tr>\n",
       "      <th>4</th>\n",
       "      <td>Moose</td>\n",
       "      <td>4.0</td>\n",
       "      <td>NaN</td>\n",
       "      <td>Yes</td>\n",
       "    </tr>\n",
       "    <tr>\n",
       "      <th>5</th>\n",
       "      <td>Cat</td>\n",
       "      <td>15.0</td>\n",
       "      <td>58000.0</td>\n",
       "      <td>Yes</td>\n",
       "    </tr>\n",
       "    <tr>\n",
       "      <th>6</th>\n",
       "      <td>Dog</td>\n",
       "      <td>NaN</td>\n",
       "      <td>52000.0</td>\n",
       "      <td>No</td>\n",
       "    </tr>\n",
       "    <tr>\n",
       "      <th>7</th>\n",
       "      <td>Cat</td>\n",
       "      <td>12.0</td>\n",
       "      <td>79000.0</td>\n",
       "      <td>Yes</td>\n",
       "    </tr>\n",
       "    <tr>\n",
       "      <th>8</th>\n",
       "      <td>Moose</td>\n",
       "      <td>5.0</td>\n",
       "      <td>83000.0</td>\n",
       "      <td>No</td>\n",
       "    </tr>\n",
       "    <tr>\n",
       "      <th>9</th>\n",
       "      <td>Cat</td>\n",
       "      <td>7.0</td>\n",
       "      <td>67000.0</td>\n",
       "      <td>Yes</td>\n",
       "    </tr>\n",
       "  </tbody>\n",
       "</table>\n",
       "</div>"
      ],
      "text/plain": [
       "  Animal   Age    Worth Friendly\n",
       "0    Cat   4.0  72000.0       No\n",
       "1    Dog  17.0  48000.0      Yes\n",
       "2  Moose   6.0  54000.0       No\n",
       "3    Dog   8.0  61000.0       No\n",
       "4  Moose   4.0      NaN      Yes\n",
       "5    Cat  15.0  58000.0      Yes\n",
       "6    Dog   NaN  52000.0       No\n",
       "7    Cat  12.0  79000.0      Yes\n",
       "8  Moose   5.0  83000.0       No\n",
       "9    Cat   7.0  67000.0      Yes"
      ]
     },
     "execution_count": 52,
     "metadata": {},
     "output_type": "execute_result"
    }
   ],
   "source": [
    "data = pd.read_csv(r'./Data/Animal.csv')\n",
    "data"
   ]
  },
  {
   "cell_type": "code",
   "execution_count": 53,
   "metadata": {
    "ExecuteTime": {
     "end_time": "2019-03-11T16:14:56.571068Z",
     "start_time": "2019-03-11T16:14:56.517087Z"
    }
   },
   "outputs": [
    {
     "name": "stdout",
     "output_type": "stream",
     "text": [
      "<class 'pandas.core.frame.DataFrame'>\n",
      "RangeIndex: 10 entries, 0 to 9\n",
      "Data columns (total 4 columns):\n",
      "Animal      10 non-null object\n",
      "Age         9 non-null float64\n",
      "Worth       9 non-null float64\n",
      "Friendly    10 non-null object\n",
      "dtypes: float64(2), object(2)\n",
      "memory usage: 400.0+ bytes\n"
     ]
    }
   ],
   "source": [
    "data.info()"
   ]
  },
  {
   "cell_type": "code",
   "execution_count": 54,
   "metadata": {
    "ExecuteTime": {
     "end_time": "2019-03-11T16:14:56.661060Z",
     "start_time": "2019-03-11T16:14:56.575911Z"
    }
   },
   "outputs": [
    {
     "data": {
      "text/html": [
       "<div>\n",
       "<style scoped>\n",
       "    .dataframe tbody tr th:only-of-type {\n",
       "        vertical-align: middle;\n",
       "    }\n",
       "\n",
       "    .dataframe tbody tr th {\n",
       "        vertical-align: top;\n",
       "    }\n",
       "\n",
       "    .dataframe thead th {\n",
       "        text-align: right;\n",
       "    }\n",
       "</style>\n",
       "<table border=\"1\" class=\"dataframe\">\n",
       "  <thead>\n",
       "    <tr style=\"text-align: right;\">\n",
       "      <th></th>\n",
       "      <th>Age</th>\n",
       "      <th>Worth</th>\n",
       "    </tr>\n",
       "  </thead>\n",
       "  <tbody>\n",
       "    <tr>\n",
       "      <th>count</th>\n",
       "      <td>9.000000</td>\n",
       "      <td>9.000000</td>\n",
       "    </tr>\n",
       "    <tr>\n",
       "      <th>mean</th>\n",
       "      <td>8.666667</td>\n",
       "      <td>63777.777778</td>\n",
       "    </tr>\n",
       "    <tr>\n",
       "      <th>std</th>\n",
       "      <td>4.847680</td>\n",
       "      <td>12265.579662</td>\n",
       "    </tr>\n",
       "    <tr>\n",
       "      <th>min</th>\n",
       "      <td>4.000000</td>\n",
       "      <td>48000.000000</td>\n",
       "    </tr>\n",
       "    <tr>\n",
       "      <th>25%</th>\n",
       "      <td>5.000000</td>\n",
       "      <td>54000.000000</td>\n",
       "    </tr>\n",
       "    <tr>\n",
       "      <th>50%</th>\n",
       "      <td>7.000000</td>\n",
       "      <td>61000.000000</td>\n",
       "    </tr>\n",
       "    <tr>\n",
       "      <th>75%</th>\n",
       "      <td>12.000000</td>\n",
       "      <td>72000.000000</td>\n",
       "    </tr>\n",
       "    <tr>\n",
       "      <th>max</th>\n",
       "      <td>17.000000</td>\n",
       "      <td>83000.000000</td>\n",
       "    </tr>\n",
       "  </tbody>\n",
       "</table>\n",
       "</div>"
      ],
      "text/plain": [
       "             Age         Worth\n",
       "count   9.000000      9.000000\n",
       "mean    8.666667  63777.777778\n",
       "std     4.847680  12265.579662\n",
       "min     4.000000  48000.000000\n",
       "25%     5.000000  54000.000000\n",
       "50%     7.000000  61000.000000\n",
       "75%    12.000000  72000.000000\n",
       "max    17.000000  83000.000000"
      ]
     },
     "execution_count": 54,
     "metadata": {},
     "output_type": "execute_result"
    }
   ],
   "source": [
    "data.describe()"
   ]
  },
  {
   "cell_type": "markdown",
   "metadata": {},
   "source": [
    "## 数据预处理"
   ]
  },
  {
   "cell_type": "markdown",
   "metadata": {},
   "source": [
    "### 划分数据集"
   ]
  },
  {
   "cell_type": "code",
   "execution_count": 55,
   "metadata": {
    "ExecuteTime": {
     "end_time": "2019-03-11T16:14:56.733986Z",
     "start_time": "2019-03-11T16:14:56.664149Z"
    }
   },
   "outputs": [
    {
     "data": {
      "text/plain": [
       "(array([['Cat', 4.0, 72000.0],\n",
       "        ['Dog', 17.0, 48000.0],\n",
       "        ['Moose', 6.0, 54000.0],\n",
       "        ['Dog', 8.0, 61000.0],\n",
       "        ['Moose', 4.0, nan],\n",
       "        ['Cat', 15.0, 58000.0],\n",
       "        ['Dog', nan, 52000.0],\n",
       "        ['Cat', 12.0, 79000.0],\n",
       "        ['Moose', 5.0, 83000.0],\n",
       "        ['Cat', 7.0, 67000.0]], dtype=object),\n",
       " array(['No', 'Yes', 'No', 'No', 'Yes', 'Yes', 'No', 'Yes', 'No', 'Yes'],\n",
       "       dtype=object))"
      ]
     },
     "execution_count": 55,
     "metadata": {},
     "output_type": "execute_result"
    }
   ],
   "source": [
    "# 划分数据集\n",
    "# 第一个冒号表示行索引，冒号两边可以输入数字表示取行的范围\n",
    "# 第二个冒号表示列索引，和行同理\n",
    "x = data.iloc[:, :-1].values\n",
    "y = data.iloc[:, 3].values\n",
    "x, y"
   ]
  },
  {
   "cell_type": "markdown",
   "metadata": {
    "ExecuteTime": {
     "end_time": "2019-03-11T15:36:11.253928Z",
     "start_time": "2019-03-11T15:36:11.243740Z"
    }
   },
   "source": [
    "### 缺失值处理"
   ]
  },
  {
   "cell_type": "markdown",
   "metadata": {},
   "source": [
    "* 最常用的方法是，用其所在列的均值来填充缺失。\n",
    "* 可以利用 scikit-learn 预处理模型中的 inputer 类实现。"
   ]
  },
  {
   "cell_type": "code",
   "execution_count": 56,
   "metadata": {
    "ExecuteTime": {
     "end_time": "2019-03-11T16:14:56.805438Z",
     "start_time": "2019-03-11T16:14:56.737092Z"
    }
   },
   "outputs": [],
   "source": [
    "from sklearn.preprocessing import Imputer\n",
    "imputer = Imputer(missing_values=np.nan, strategy='mean', axis=0)\n",
    "# missing_values 表示缺失值取值NaN\n",
    "# strategy 表示填补缺失值策略，这里使用mean，即均值"
   ]
  },
  {
   "cell_type": "code",
   "execution_count": 57,
   "metadata": {
    "ExecuteTime": {
     "end_time": "2019-03-11T16:14:56.885953Z",
     "start_time": "2019-03-11T16:14:56.809865Z"
    }
   },
   "outputs": [
    {
     "data": {
      "text/plain": [
       "array([['Cat', 4.0, 72000.0],\n",
       "       ['Dog', 17.0, 48000.0],\n",
       "       ['Moose', 6.0, 54000.0],\n",
       "       ['Dog', 8.0, 61000.0],\n",
       "       ['Moose', 4.0, 63777.77777777778],\n",
       "       ['Cat', 15.0, 58000.0],\n",
       "       ['Dog', 8.666666666666666, 52000.0],\n",
       "       ['Cat', 12.0, 79000.0],\n",
       "       ['Moose', 5.0, 83000.0],\n",
       "       ['Cat', 7.0, 67000.0]], dtype=object)"
      ]
     },
     "execution_count": 57,
     "metadata": {},
     "output_type": "execute_result"
    }
   ],
   "source": [
    "# 在自变量中，只用第2，3列出现缺失值\n",
    "# 因此仅拟合有缺失值的列\n",
    "imputer = imputer.fit(x[:, 1:3])\n",
    "\n",
    "# 填补缺失值\n",
    "x[:,1:3]=imputer.transform(x[:, 1:3])\n",
    "x"
   ]
  },
  {
   "cell_type": "markdown",
   "metadata": {},
   "source": [
    "使用缺失值所在列的**中位数**或**众数**来填充缺失值会更加合理。填充策略之类的决策看似细微，但其实意义重大。因为流行通用的方法并不一定就是正确的选择，对于模型而言，均值**也不一定**是最优的缺失填充选择。"
   ]
  },
  {
   "cell_type": "markdown",
   "metadata": {},
   "source": [
    "### 非数值型数据编码"
   ]
  },
  {
   "cell_type": "code",
   "execution_count": 58,
   "metadata": {
    "ExecuteTime": {
     "end_time": "2019-03-11T16:14:56.956992Z",
     "start_time": "2019-03-11T16:14:56.891401Z"
    }
   },
   "outputs": [
    {
     "data": {
      "text/plain": [
       "array([[0, 4.0, 72000.0],\n",
       "       [1, 17.0, 48000.0],\n",
       "       [2, 6.0, 54000.0],\n",
       "       [1, 8.0, 61000.0],\n",
       "       [2, 4.0, 63777.77777777778],\n",
       "       [0, 15.0, 58000.0],\n",
       "       [1, 8.666666666666666, 52000.0],\n",
       "       [0, 12.0, 79000.0],\n",
       "       [2, 5.0, 83000.0],\n",
       "       [0, 7.0, 67000.0]], dtype=object)"
      ]
     },
     "execution_count": 58,
     "metadata": {},
     "output_type": "execute_result"
    }
   ],
   "source": [
    "from sklearn.preprocessing import LabelEncoder\n",
    "labelencoder_X = LabelEncoder()\n",
    "x[:, 0] = labelencoder_X.fit_transform(x[:, 0])\n",
    "x"
   ]
  },
  {
   "cell_type": "markdown",
   "metadata": {},
   "source": [
    "该编码方式存在问题，即将文本转换成对应的编码，会让模型识别编码是一个数而不是一个类，因此最好使用one-hot编码方式"
   ]
  },
  {
   "cell_type": "code",
   "execution_count": 59,
   "metadata": {
    "ExecuteTime": {
     "end_time": "2019-03-11T16:14:57.023392Z",
     "start_time": "2019-03-11T16:14:56.959376Z"
    }
   },
   "outputs": [
    {
     "data": {
      "text/plain": [
       "array([[1.00000000e+00, 0.00000000e+00, 0.00000000e+00, 4.00000000e+00,\n",
       "        7.20000000e+04],\n",
       "       [0.00000000e+00, 1.00000000e+00, 0.00000000e+00, 1.70000000e+01,\n",
       "        4.80000000e+04],\n",
       "       [0.00000000e+00, 0.00000000e+00, 1.00000000e+00, 6.00000000e+00,\n",
       "        5.40000000e+04],\n",
       "       [0.00000000e+00, 1.00000000e+00, 0.00000000e+00, 8.00000000e+00,\n",
       "        6.10000000e+04],\n",
       "       [0.00000000e+00, 0.00000000e+00, 1.00000000e+00, 4.00000000e+00,\n",
       "        6.37777778e+04],\n",
       "       [1.00000000e+00, 0.00000000e+00, 0.00000000e+00, 1.50000000e+01,\n",
       "        5.80000000e+04],\n",
       "       [0.00000000e+00, 1.00000000e+00, 0.00000000e+00, 8.66666667e+00,\n",
       "        5.20000000e+04],\n",
       "       [1.00000000e+00, 0.00000000e+00, 0.00000000e+00, 1.20000000e+01,\n",
       "        7.90000000e+04],\n",
       "       [0.00000000e+00, 0.00000000e+00, 1.00000000e+00, 5.00000000e+00,\n",
       "        8.30000000e+04],\n",
       "       [1.00000000e+00, 0.00000000e+00, 0.00000000e+00, 7.00000000e+00,\n",
       "        6.70000000e+04]])"
      ]
     },
     "execution_count": 59,
     "metadata": {},
     "output_type": "execute_result"
    }
   ],
   "source": [
    "from sklearn.preprocessing import OneHotEncoder\n",
    "onehot_x=OneHotEncoder(categorical_features = [0])\n",
    "x=onehot_x.fit_transform(x).toarray()\n",
    "x"
   ]
  },
  {
   "cell_type": "code",
   "execution_count": 61,
   "metadata": {
    "ExecuteTime": {
     "end_time": "2019-03-11T16:20:49.538833Z",
     "start_time": "2019-03-11T16:20:49.528196Z"
    }
   },
   "outputs": [
    {
     "data": {
      "text/plain": [
       "array([0, 1, 0, 0, 1, 1, 0, 1, 0, 1])"
      ]
     },
     "execution_count": 61,
     "metadata": {},
     "output_type": "execute_result"
    }
   ],
   "source": [
    "labelencoder_y = LabelEncoder()\n",
    "y = labelencoder_y.fit_transform(y)\n",
    "y"
   ]
  },
  {
   "cell_type": "markdown",
   "metadata": {},
   "source": [
    "## 测试集和训练集的划分"
   ]
  },
  {
   "cell_type": "code",
   "execution_count": null,
   "metadata": {},
   "outputs": [],
   "source": []
  }
 ],
 "metadata": {
  "kernelspec": {
   "display_name": "Python 3",
   "language": "python",
   "name": "python3"
  },
  "language_info": {
   "codemirror_mode": {
    "name": "ipython",
    "version": 3
   },
   "file_extension": ".py",
   "mimetype": "text/x-python",
   "name": "python",
   "nbconvert_exporter": "python",
   "pygments_lexer": "ipython3",
   "version": "3.6.8"
  },
  "toc": {
   "base_numbering": 1,
   "nav_menu": {},
   "number_sections": true,
   "sideBar": true,
   "skip_h1_title": false,
   "title_cell": "Table of Contents",
   "title_sidebar": "Contents",
   "toc_cell": false,
   "toc_position": {},
   "toc_section_display": true,
   "toc_window_display": false
  },
  "varInspector": {
   "cols": {
    "lenName": 16,
    "lenType": 16,
    "lenVar": 40
   },
   "kernels_config": {
    "python": {
     "delete_cmd_postfix": "",
     "delete_cmd_prefix": "del ",
     "library": "var_list.py",
     "varRefreshCmd": "print(var_dic_list())"
    },
    "r": {
     "delete_cmd_postfix": ") ",
     "delete_cmd_prefix": "rm(",
     "library": "var_list.r",
     "varRefreshCmd": "cat(var_dic_list()) "
    }
   },
   "types_to_exclude": [
    "module",
    "function",
    "builtin_function_or_method",
    "instance",
    "_Feature"
   ],
   "window_display": false
  }
 },
 "nbformat": 4,
 "nbformat_minor": 2
}
